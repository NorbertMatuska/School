{
 "cells": [
  {
   "metadata": {
    "collapsed": false
   },
   "cell_type": "markdown",
   "source": [
    "# Fáza 3 - Strojové učenie\n",
    "Práca bola rozdelená férovo pre oboch zúčastnených\n",
    "Adam Kubaliak 50%\n",
    "Norbert Matuška 50% "
   ],
   "id": "4c008ac2b135918a"
  },
  {
   "metadata": {
    "collapsed": true,
    "ExecuteTime": {
     "end_time": "2024-11-24T20:07:59.705077Z",
     "start_time": "2024-11-24T20:07:59.699159Z"
    }
   },
   "cell_type": "code",
   "source": [
    "import pandas as pd\n",
    "import numpy as np\n",
    "from sklearn.tree import DecisionTreeClassifier, plot_tree\n",
    "from sklearn.svm import SVC\n",
    "from collections import Counter\n",
    "import matplotlib.pyplot as plt\n",
    "from sklearn.metrics import accuracy_score, precision_score, recall_score, classification_report, confusion_matrix\n",
    "from sklearn.model_selection import GridSearchCV\n",
    "from sklearn.ensemble import BaggingClassifier\n",
    "from sklearn.ensemble import VotingClassifier\n",
    "from sklearn.linear_model import LogisticRegression\n",
    "from sklearn.ensemble import GradientBoostingClassifier\n",
    "from sklearn.model_selection import cross_val_score\n",
    "from sklearn.pipeline import Pipeline\n",
    "from sklearn.preprocessing import RobustScaler, PowerTransformer\n",
    "from sklearn.model_selection import learning_curve\n"
   ],
   "id": "initial_id",
   "outputs": [],
   "execution_count": 123
  },
  {
   "metadata": {
    "collapsed": false,
    "ExecuteTime": {
     "end_time": "2024-11-24T20:01:07.676675Z",
     "start_time": "2024-11-24T20:01:07.660627Z"
    }
   },
   "cell_type": "code",
   "outputs": [],
   "execution_count": 98,
   "source": [
    "data_train_best_features = pd.read_csv(\"data_train_best_features.csv\")\n",
    "data_test_best_features = pd.read_csv(\"data_test_best_features.csv\")\n",
    "best_features_columns = data_train_best_features.columns.tolist()"
   ],
   "id": "9002b83f1a7ac690"
  },
  {
   "cell_type": "markdown",
   "source": [
    "## 3.1 Jednoduchý klasifikátor na základe závislostí v dátach"
   ],
   "metadata": {
    "collapsed": false
   },
   "id": "35d1f32278ea6d44"
  },
  {
   "cell_type": "markdown",
   "source": [
    "### 3.1 A\n",
    "(A-3b) Naimplementujte jednoduchý ID3 klasifikátor s hĺbkou min 2 (vrátane root/koreň). "
   ],
   "metadata": {
    "collapsed": false
   },
   "id": "73b86095ef90cf4d"
  },
  {
   "cell_type": "code",
   "source": [
    "class DecisionTreeNode:\n",
    "    def __init__(self, feature=None, threshold=None, left=None, right=None, *, value=None):\n",
    "        self.feature = feature          # Index of the feature to split on\n",
    "        self.threshold = threshold      # Threshold value for the split\n",
    "        self.left = left                # Left subtree\n",
    "        self.right = right              # Right subtree\n",
    "        self.value = value              # Predicted class if leaf node\n",
    "\n",
    "class DecisionTreeClassifierID3:\n",
    "    def __init__(self, max_depth=None, min_samples_split=2):\n",
    "        self.max_depth = max_depth                      # Maximum depth of the tree\n",
    "        self.min_samples_split = min_samples_split      # Minimum number of samples to split\n",
    "        self.root = None                                # Root node of the tree\n",
    "\n",
    "    def fit(self, X, y):\n",
    "        self.n_classes_ = len(set(y))\n",
    "        self.features_ = X.columns\n",
    "        data = X.copy()\n",
    "        data['mwra'] = y\n",
    "        self.root = self.build_tree(data, depth=0)\n",
    "\n",
    "    def build_tree(self, data, depth):\n",
    "        X = data.drop('mwra', axis=1)\n",
    "        y = data['mwra']\n",
    "        num_samples, num_features = X.shape\n",
    "\n",
    "        # Stopping criteria\n",
    "        if (len(set(y)) == 1 or\n",
    "            num_samples < self.min_samples_split or\n",
    "            (self.max_depth is not None and depth >= self.max_depth)):\n",
    "            leaf_value = self.most_common_label(y)\n",
    "            return DecisionTreeNode(value=leaf_value)\n",
    "\n",
    "        # Find the best split\n",
    "        best_feature, best_threshold = self.best_split(data)\n",
    "        if best_feature is None:\n",
    "            leaf_value = self.most_common_label(y)\n",
    "            return DecisionTreeNode(value=leaf_value)\n",
    "\n",
    "        # Split the data\n",
    "        left_idxs = X[X[best_feature] <= best_threshold].index\n",
    "        right_idxs = X[X[best_feature] > best_threshold].index\n",
    "\n",
    "        left = self.build_tree(data.loc[left_idxs], depth + 1)\n",
    "        right = self.build_tree(data.loc[right_idxs], depth + 1)\n",
    "        return DecisionTreeNode(feature=best_feature, threshold=best_threshold, left=left, right=right)\n",
    "\n",
    "    def best_split(self, data):\n",
    "        X = data.drop('mwra', axis=1)\n",
    "        y = data['mwra']\n",
    "        best_gain = -1\n",
    "        split_feature, split_threshold = None, None\n",
    "\n",
    "        for feature in X.columns:\n",
    "            thresholds = X[feature].unique()\n",
    "            for threshold in thresholds:\n",
    "                gain = self.information_gain(y, X[feature], threshold)\n",
    "                if gain > best_gain:\n",
    "                    best_gain = gain\n",
    "                    split_feature = feature\n",
    "                    split_threshold = threshold\n",
    "\n",
    "        return split_feature, split_threshold\n",
    "\n",
    "    def information_gain(self, y, feature_col, threshold):\n",
    "        parent_entropy = self.entropy(y)\n",
    "\n",
    "        # Generate splits\n",
    "        left_idxs = feature_col <= threshold\n",
    "        right_idxs = feature_col > threshold\n",
    "        if len(y[left_idxs]) == 0 or len(y[right_idxs]) == 0:\n",
    "            return 0\n",
    "\n",
    "        # Weighted average child entropy\n",
    "        n = len(y)\n",
    "        n_left, n_right = len(y[left_idxs]), len(y[right_idxs])\n",
    "        e_left, e_right = self.entropy(y[left_idxs]), self.entropy(y[right_idxs])\n",
    "        child_entropy = (n_left / n) * e_left + (n_right / n) * e_right\n",
    "\n",
    "        # Information gain\n",
    "        ig = parent_entropy - child_entropy\n",
    "        return ig\n",
    "\n",
    "    def entropy(self, y):\n",
    "        hist = np.bincount(y)\n",
    "        ps = hist / len(y)\n",
    "        ps = ps[ps > 0]\n",
    "        entropy = -np.sum(ps * np.log2(ps))\n",
    "        return entropy\n",
    "\n",
    "    def most_common_label(self, y):\n",
    "        counter = Counter(y)\n",
    "        most_common = counter.most_common(1)[0][0]\n",
    "        return most_common\n",
    "\n",
    "    def predict(self, X):\n",
    "        return X.apply(self.traverse_tree, axis=1, args=(self.root,))\n",
    "\n",
    "    def traverse_tree(self, x, node):\n",
    "        if node.value is not None:\n",
    "            return node.value\n",
    "\n",
    "        feature_val = x[node.feature]\n",
    "        if feature_val <= node.threshold:\n",
    "            return self.traverse_tree(x, node.left)\n",
    "        else:\n",
    "            return self.traverse_tree(x, node.right)"
   ],
   "metadata": {
    "collapsed": false,
    "ExecuteTime": {
     "end_time": "2024-11-24T20:01:07.716270Z",
     "start_time": "2024-11-24T20:01:07.708132Z"
    }
   },
   "id": "24ea90c01258fd55",
   "outputs": [],
   "execution_count": 100
  },
  {
   "cell_type": "code",
   "source": [
    "trainX = data_train_best_features.drop('mwra', axis=1)\n",
    "trainY = data_train_best_features['mwra']\n",
    "\n",
    "# Convert target variable to categorical if it's not\n",
    "trainY = trainY.astype(int)\n",
    "\n",
    "clf = DecisionTreeClassifierID3(max_depth=5)\n",
    "clf.fit(trainX, trainY)\n"
   ],
   "metadata": {
    "collapsed": false,
    "ExecuteTime": {
     "end_time": "2024-11-24T20:02:42.745299Z",
     "start_time": "2024-11-24T20:01:07.737706Z"
    }
   },
   "id": "6bce2081adc77cbd",
   "outputs": [],
   "execution_count": 101
  },
  {
   "cell_type": "markdown",
   "source": [
    "### 3.1 B\n",
    "(B-1b) Vyhodnoťte Váš ID3 klasifikátor pomocou metrík accuracy, precision a recall."
   ],
   "metadata": {
    "collapsed": false
   },
   "id": "87bc5f57c4ccc88"
  },
  {
   "cell_type": "code",
   "source": [
    "testX = data_test_best_features.drop(\"mwra\", axis=1)\n",
    "testY = data_test_best_features[\"mwra\"]\n",
    "\n",
    "predictions = clf.predict(testX)\n",
    "\n",
    "# Evaluate the classifier\n",
    "accuracy = accuracy_score(testY, predictions)\n",
    "precision = precision_score(testY, predictions)\n",
    "recall = recall_score(testY, predictions)\n",
    "\n",
    "print(f\"Accuracy: {accuracy * 100:.2f}%\")\n",
    "print(f\"Precision: {precision * 100:.2f}%\")\n",
    "print(f\"Recall: {recall * 100:.2f}%\")\n",
    "\n",
    "# Detailed classification report\n",
    "print(\"\\nClassification Report:\")\n",
    "print(classification_report(testY, predictions))\n",
    "\n",
    "# Confusion Matrix\n",
    "print(\"Confusion Matrix:\")\n",
    "print(confusion_matrix(testY, predictions))"
   ],
   "metadata": {
    "collapsed": false,
    "ExecuteTime": {
     "end_time": "2024-11-24T20:02:42.799763Z",
     "start_time": "2024-11-24T20:02:42.770851Z"
    }
   },
   "id": "371eec06755bd775",
   "outputs": [
    {
     "name": "stdout",
     "output_type": "stream",
     "text": [
      "Accuracy: 89.96%\n",
      "Precision: 89.82%\n",
      "Recall: 95.24%\n",
      "\n",
      "Classification Report:\n",
      "              precision    recall  f1-score   support\n",
      "\n",
      "         0.0       0.90      0.80      0.85       983\n",
      "         1.0       0.90      0.95      0.92      1787\n",
      "\n",
      "    accuracy                           0.90      2770\n",
      "   macro avg       0.90      0.88      0.89      2770\n",
      "weighted avg       0.90      0.90      0.90      2770\n",
      "\n",
      "Confusion Matrix:\n",
      "[[ 790  193]\n",
      " [  85 1702]]\n"
     ]
    }
   ],
   "execution_count": 102
  },
  {
   "cell_type": "markdown",
   "source": [
    "### 3.1 C\n",
    "(C-1b) Zístite či Váš ID3 klasifikátor má overfit.\n"
   ],
   "metadata": {
    "collapsed": false
   },
   "id": "d08f605686cf1724"
  },
  {
   "cell_type": "code",
   "source": [
    "train_predictions = clf.predict(trainX)\n",
    "train_accuracy = accuracy_score(trainY, train_predictions)\n",
    "train_precision = precision_score(trainY, train_predictions)\n",
    "train_recall = recall_score(trainY, train_predictions)\n",
    "\n",
    "print(f\"Training Accuracy: {train_accuracy * 100:.2f}%\")\n",
    "print(f\"Training Precision: {train_precision * 100:.2f}%\")\n",
    "print(f\"Training Recall: {train_recall * 100:.2f}%\")\n",
    "\n",
    "print(\"\\nComparison of Training and Test Performance:\")\n",
    "print(f\"Accuracy Difference: {train_accuracy - accuracy:.4f}\")\n",
    "print(f\"Precision Difference: {train_precision - precision:.4f}\")\n",
    "print(f\"Recall Difference: {train_recall - recall:.4f}\")\n"
   ],
   "metadata": {
    "collapsed": false,
    "ExecuteTime": {
     "end_time": "2024-11-24T20:02:42.874726Z",
     "start_time": "2024-11-24T20:02:42.823434Z"
    }
   },
   "id": "ecedba2f81c51f1c",
   "outputs": [
    {
     "name": "stdout",
     "output_type": "stream",
     "text": [
      "Training Accuracy: 90.97%\n",
      "Training Precision: 90.61%\n",
      "Training Recall: 96.03%\n",
      "\n",
      "Comparison of Training and Test Performance:\n",
      "Accuracy Difference: 0.0101\n",
      "Precision Difference: 0.0079\n",
      "Recall Difference: 0.0079\n"
     ]
    }
   ],
   "execution_count": 103
  },
  {
   "cell_type": "markdown",
   "source": [
    "Výsledky:\n",
    "Accuracy rozdiel: 1.01%\n",
    "Precision rozdiel: 0.79%\n",
    "Recall rozdiel: 0.79%\n",
    "\n",
    "- Náš klasifikátor rozhodovacieho stromu funguje podobne na tréningových aj testovacích súboroch údajov tým pádom malé rozdiely vo výkone naznačujú, že overfit nie je pre náš model problem.\n",
    "- Model taktiez dobre generalizuje nové údaje, čo naznačuje, že zachytil základné vzorce potrebné na vytváranie presných predpovedí bez toho, aby bol ovplyvnený šumom v trénovacích údajoch."
   ],
   "metadata": {
    "collapsed": false
   },
   "id": "746f10fe88cc2f98"
  },
  {
   "cell_type": "markdown",
   "source": [
    "## 3.2 Trénovanie a vyhodnotenie klasifikátorov strojového učenia"
   ],
   "metadata": {
    "collapsed": false
   },
   "id": "609e4b05d891ab75"
  },
  {
   "cell_type": "markdown",
   "source": [
    "### 3.2 A\n",
    "(A-1b) Na trénovanie využite jeden stromový algoritmus v scikit-learn."
   ],
   "metadata": {
    "collapsed": false
   },
   "id": "c7599e225daab7d1"
  },
  {
   "cell_type": "code",
   "source": [
    "tree_model = DecisionTreeClassifier(max_depth=5, random_state=42)\n",
    "tree_model.fit(trainX, trainY)\n",
    "\n",
    "predictions_scikit_tree = tree_model.predict(testX)\n",
    "\n",
    "accuracy_scikit_tree = accuracy_score(testY, predictions_scikit_tree)\n",
    "precision_scikit_tree = precision_score(testY, predictions_scikit_tree)\n",
    "recall_scikit_tree = recall_score(testY, predictions_scikit_tree)\n",
    "\n",
    "print(f\"Accuracy: {accuracy_scikit_tree * 100:.2f}\")\n",
    "print(f\"Precision: {precision_scikit_tree * 100:.2f}\")\n",
    "print(f\"Recall: {recall_scikit_tree * 100:.2f}\")"
   ],
   "metadata": {
    "collapsed": false,
    "ExecuteTime": {
     "end_time": "2024-11-24T20:02:42.928301Z",
     "start_time": "2024-11-24T20:02:42.898807Z"
    }
   },
   "id": "3af917849e0a3a0e",
   "outputs": [
    {
     "name": "stdout",
     "output_type": "stream",
     "text": [
      "Accuracy: 89.31\n",
      "Precision: 89.13\n",
      "Recall: 95.02\n"
     ]
    }
   ],
   "execution_count": 104
  },
  {
   "cell_type": "markdown",
   "source": [
    "## 3.2 B\n",
    "(B-1b) Porovnajte s jedným iným nestromovým algoritmom v scikit-learn.\n"
   ],
   "metadata": {
    "collapsed": false
   },
   "id": "be25566e25744681"
  },
  {
   "cell_type": "code",
   "source": [
    "svm_model = SVC(kernel='linear', random_state=42)  # Linear kernel for simplicity\n",
    "svm_model.fit(trainX, trainY)\n",
    "\n",
    "predictions_scikit_svm = svm_model.predict(testX)\n",
    "\n",
    "accuracy_scikit_svm = accuracy_score(testY, predictions_scikit_svm)\n",
    "precision_scikit_svm = precision_score(testY, predictions_scikit_svm)\n",
    "recall_scikit_svm = recall_score(testY, predictions_scikit_svm)\n",
    "\n",
    "print(f\"Accuracy: {accuracy_scikit_svm * 100:.2f}\")\n",
    "print(f\"Precision: {precision_scikit_svm * 100:.2f}\")\n",
    "print(f\"Recall: {recall_scikit_svm * 100:.2f}\")"
   ],
   "metadata": {
    "collapsed": false,
    "ExecuteTime": {
     "end_time": "2024-11-24T20:02:43.294438Z",
     "start_time": "2024-11-24T20:02:42.952331Z"
    }
   },
   "id": "dae7d7e247ba077e",
   "outputs": [
    {
     "name": "stdout",
     "output_type": "stream",
     "text": [
      "Accuracy: 91.08\n",
      "Precision: 90.44\n",
      "Recall: 96.36\n"
     ]
    }
   ],
   "execution_count": 105
  },
  {
   "cell_type": "code",
   "source": [
    "# --------- Confusion Matrix Comparison ---------\n",
    "# Confusion Matrix for Decision Tree\n",
    "conf_matrix_tree = confusion_matrix(testY, predictions_scikit_tree)\n",
    "print(\"\\nDecision Tree - Confusion Matrix:\")\n",
    "print(conf_matrix_tree)\n",
    "\n",
    "# Confusion Matrix for SVM\n",
    "conf_matrix_svm = confusion_matrix(testY, predictions_scikit_svm)\n",
    "print(\"\\nSVM - Confusion Matrix:\")\n",
    "print(conf_matrix_svm)\n",
    "\n",
    "# --------- Classification Report Comparison ---------\n",
    "# Detailed Report for Decision Tree\n",
    "print(\"\\nDecision Tree - Classification Report:\")\n",
    "print(classification_report(testY, predictions_scikit_tree))\n",
    "\n",
    "# Detailed Report for SVM\n",
    "print(\"\\nSVM - Classification Report:\")\n",
    "print(classification_report(testY, predictions_scikit_svm))"
   ],
   "metadata": {
    "collapsed": false,
    "ExecuteTime": {
     "end_time": "2024-11-24T20:02:43.329164Z",
     "start_time": "2024-11-24T20:02:43.317737Z"
    }
   },
   "id": "728b094988d8123e",
   "outputs": [
    {
     "name": "stdout",
     "output_type": "stream",
     "text": [
      "\n",
      "Decision Tree - Confusion Matrix:\n",
      "[[ 776  207]\n",
      " [  89 1698]]\n",
      "\n",
      "SVM - Confusion Matrix:\n",
      "[[ 801  182]\n",
      " [  65 1722]]\n",
      "\n",
      "Decision Tree - Classification Report:\n",
      "              precision    recall  f1-score   support\n",
      "\n",
      "         0.0       0.90      0.79      0.84       983\n",
      "         1.0       0.89      0.95      0.92      1787\n",
      "\n",
      "    accuracy                           0.89      2770\n",
      "   macro avg       0.89      0.87      0.88      2770\n",
      "weighted avg       0.89      0.89      0.89      2770\n",
      "\n",
      "\n",
      "SVM - Classification Report:\n",
      "              precision    recall  f1-score   support\n",
      "\n",
      "         0.0       0.92      0.81      0.87       983\n",
      "         1.0       0.90      0.96      0.93      1787\n",
      "\n",
      "    accuracy                           0.91      2770\n",
      "   macro avg       0.91      0.89      0.90      2770\n",
      "weighted avg       0.91      0.91      0.91      2770\n"
     ]
    }
   ],
   "execution_count": 106
  },
  {
   "cell_type": "markdown",
   "source": [
    "## 3.2 C\n",
    "(C-1b) Porovnajte výsledky s ID3 z prvého kroku.\n"
   ],
   "metadata": {
    "collapsed": false
   },
   "id": "55f33cdb2b5be773"
  },
  {
   "cell_type": "code",
   "source": [
    "scikit_tree_metrics = {\n",
    "    \"Accuracy\": accuracy_scikit_tree,\n",
    "    \"Precision\": precision_scikit_tree,\n",
    "    \"Recall\": recall_scikit_tree\n",
    "}\n",
    "\n",
    "scikit_svm_metrics = {\n",
    "    \"Accuracy\": accuracy_scikit_svm,\n",
    "    \"Precision\": precision_scikit_svm,\n",
    "    \"Recall\": recall_scikit_svm\n",
    "}\n",
    "\n",
    "id3_metrics = {\n",
    "    \"Accuracy\": accuracy,\n",
    "    \"Precision\": precision,\n",
    "    \"Recall\": recall\n",
    "}\n",
    "\n",
    "comparison_df = pd.DataFrame(\n",
    "    {\n",
    "        \"ID3 Classifier\": id3_metrics,\n",
    "        \"Decision Tree\": scikit_tree_metrics,\n",
    "        \"SVM\": scikit_svm_metrics\n",
    "    }\n",
    ")\n",
    "\n",
    "comparison_df"
   ],
   "metadata": {
    "collapsed": false,
    "ExecuteTime": {
     "end_time": "2024-11-24T20:02:43.357487Z",
     "start_time": "2024-11-24T20:02:43.352827Z"
    }
   },
   "id": "3a29804f9b88dd02",
   "outputs": [
    {
     "data": {
      "text/plain": [
       "           ID3 Classifier  Decision Tree       SVM\n",
       "Accuracy         0.899639       0.893141  0.910830\n",
       "Precision        0.898153       0.891339  0.904412\n",
       "Recall           0.952434       0.950196  0.963626"
      ],
      "text/html": [
       "<div>\n",
       "<style scoped>\n",
       "    .dataframe tbody tr th:only-of-type {\n",
       "        vertical-align: middle;\n",
       "    }\n",
       "\n",
       "    .dataframe tbody tr th {\n",
       "        vertical-align: top;\n",
       "    }\n",
       "\n",
       "    .dataframe thead th {\n",
       "        text-align: right;\n",
       "    }\n",
       "</style>\n",
       "<table border=\"1\" class=\"dataframe\">\n",
       "  <thead>\n",
       "    <tr style=\"text-align: right;\">\n",
       "      <th></th>\n",
       "      <th>ID3 Classifier</th>\n",
       "      <th>Decision Tree</th>\n",
       "      <th>SVM</th>\n",
       "    </tr>\n",
       "  </thead>\n",
       "  <tbody>\n",
       "    <tr>\n",
       "      <th>Accuracy</th>\n",
       "      <td>0.899639</td>\n",
       "      <td>0.893141</td>\n",
       "      <td>0.910830</td>\n",
       "    </tr>\n",
       "    <tr>\n",
       "      <th>Precision</th>\n",
       "      <td>0.898153</td>\n",
       "      <td>0.891339</td>\n",
       "      <td>0.904412</td>\n",
       "    </tr>\n",
       "    <tr>\n",
       "      <th>Recall</th>\n",
       "      <td>0.952434</td>\n",
       "      <td>0.950196</td>\n",
       "      <td>0.963626</td>\n",
       "    </tr>\n",
       "  </tbody>\n",
       "</table>\n",
       "</div>"
      ]
     },
     "execution_count": 107,
     "metadata": {},
     "output_type": "execute_result"
    }
   ],
   "execution_count": 107
  },
  {
   "cell_type": "markdown",
   "source": [
    "SVM je model s najlepsím výkonom vo všetkých metrikách: accuracy, precision a recall. Preto je pre tento dataset SVM najlepšiou  voľbou. ID3 Classifier sa dosť približuje, najmä v Recall, ktorý prevyšuje výkon decision tree a približuje sa k SVM. V porovnaní s ID3 a SVM, decision tree vo všetkých metrikách trochu zaostáva. Napriek tomu jeho výkon nie je zlý; rozdiely sú dostatočne malé."
   ],
   "metadata": {
    "collapsed": false
   },
   "id": "c9d3362a1f4cab45"
  },
  {
   "cell_type": "markdown",
   "source": [
    "## 3.2 D\n",
    "(D-1b) Vizualizujte natrénované pravidlá minimálne pre jeden Vami vybraný algoritmus\n"
   ],
   "metadata": {
    "collapsed": false
   },
   "id": "6737a9ddd972eba0"
  },
  {
   "cell_type": "code",
   "source": [
    "plt.figure(figsize=(20, 15))\n",
    "plot_tree(tree_model, feature_names=best_features_columns, class_names=[str(cls) for cls in set(trainY)], filled=True)\n",
    "plt.title(\"Decision Tree Visualization\", fontsize=16)\n",
    "plt.savefig(\"decision_tree.png\", dpi=300, bbox_inches='tight')\n",
    "plt.show()"
   ],
   "metadata": {
    "collapsed": false,
    "ExecuteTime": {
     "end_time": "2024-11-24T20:02:45.139859Z",
     "start_time": "2024-11-24T20:02:43.398836Z"
    }
   },
   "id": "20a219c108c3577e",
   "outputs": [
    {
     "data": {
      "text/plain": [
       "<Figure size 2000x1500 with 1 Axes>"
      ],
      "image/png": "[encoded data removed]"
     },
     "metadata": {},
     "output_type": "display_data"
    }
   ],
   "execution_count": 108
  },
  {
   "cell_type": "markdown",
   "source": [
    "## 3.2 E\n",
    "(E-1b) Vyhodnoťte natrénované modely pomocou metrík accuracy, precision a recall\n"
   ],
   "metadata": {
    "collapsed": false
   },
   "id": "6e5f5390208f3efa"
  },
  {
   "cell_type": "code",
   "source": [
    "comparison_df"
   ],
   "metadata": {
    "collapsed": false,
    "ExecuteTime": {
     "end_time": "2024-11-24T20:02:45.162992Z",
     "start_time": "2024-11-24T20:02:45.159503Z"
    }
   },
   "id": "dd39b6b4ece042da",
   "outputs": [
    {
     "data": {
      "text/plain": [
       "           ID3 Classifier  Decision Tree       SVM\n",
       "Accuracy         0.899639       0.893141  0.910830\n",
       "Precision        0.898153       0.891339  0.904412\n",
       "Recall           0.952434       0.950196  0.963626"
      ],
      "text/html": [
       "<div>\n",
       "<style scoped>\n",
       "    .dataframe tbody tr th:only-of-type {\n",
       "        vertical-align: middle;\n",
       "    }\n",
       "\n",
       "    .dataframe tbody tr th {\n",
       "        vertical-align: top;\n",
       "    }\n",
       "\n",
       "    .dataframe thead th {\n",
       "        text-align: right;\n",
       "    }\n",
       "</style>\n",
       "<table border=\"1\" class=\"dataframe\">\n",
       "  <thead>\n",
       "    <tr style=\"text-align: right;\">\n",
       "      <th></th>\n",
       "      <th>ID3 Classifier</th>\n",
       "      <th>Decision Tree</th>\n",
       "      <th>SVM</th>\n",
       "    </tr>\n",
       "  </thead>\n",
       "  <tbody>\n",
       "    <tr>\n",
       "      <th>Accuracy</th>\n",
       "      <td>0.899639</td>\n",
       "      <td>0.893141</td>\n",
       "      <td>0.910830</td>\n",
       "    </tr>\n",
       "    <tr>\n",
       "      <th>Precision</th>\n",
       "      <td>0.898153</td>\n",
       "      <td>0.891339</td>\n",
       "      <td>0.904412</td>\n",
       "    </tr>\n",
       "    <tr>\n",
       "      <th>Recall</th>\n",
       "      <td>0.952434</td>\n",
       "      <td>0.950196</td>\n",
       "      <td>0.963626</td>\n",
       "    </tr>\n",
       "  </tbody>\n",
       "</table>\n",
       "</div>"
      ]
     },
     "execution_count": 109,
     "metadata": {},
     "output_type": "execute_result"
    }
   ],
   "execution_count": 109
  },
  {
   "cell_type": "code",
   "source": [],
   "metadata": {
    "collapsed": false,
    "ExecuteTime": {
     "end_time": "2024-11-24T20:02:45.188610Z",
     "start_time": "2024-11-24T20:02:45.186714Z"
    }
   },
   "id": "c1c89f8ed9e33aa7",
   "outputs": [],
   "execution_count": null
  },
  {
   "metadata": {},
   "cell_type": "markdown",
   "source": [
    "## 3.3 Optimalizácia alias hyperparameter tuning"
   ],
   "id": "cbf5eb4395824e73"
  },
  {
   "metadata": {},
   "cell_type": "markdown",
   "source": [
    "### 3.3 A\n",
    "Vyskúšajte rôzne nastavenie hyperparametrov (tuning) pre zvolený algoritmus tak, aby ste optimalizovali výkonnosť (bez underfitingu).\n"
   ],
   "id": "537d987a4d9f6d04"
  },
  {
   "metadata": {
    "ExecuteTime": {
     "end_time": "2024-11-24T20:04:11.986414Z",
     "start_time": "2024-11-24T20:02:45.220602Z"
    }
   },
   "cell_type": "code",
   "source": [
    "parameters = {\n",
    "    'C': [0.1, 1, 10, 100],\n",
    "    'kernel': ['linear', 'rbf', 'poly'],\n",
    "    'gamma': ['scale', 'auto']\n",
    "}\n",
    "\n",
    "grid_search = GridSearchCV(estimator=SVC(random_state=42), \n",
    "                           param_grid=parameters, \n",
    "                           cv=5, \n",
    "                           scoring='accuracy', \n",
    "                           verbose=1)\n",
    "grid_search.fit(trainX, trainY)\n",
    "best_svm = grid_search.best_estimator_\n",
    "\n",
    "print(f'Best parameters : {grid_search.best_params_}')\n",
    "\n",
    "predictions_best_svm = best_svm.predict(testX)\n",
    "\n",
    "accuracy_best = accuracy_score(testY, predictions_best_svm)\n",
    "precision_best = precision_score(testY, predictions_best_svm)\n",
    "recall_best = recall_score(testY, predictions_best_svm)\n",
    "\n",
    "print(f'Accuracy: {accuracy_best * 100:.2f}')\n",
    "print(f'Precision: {precision_best * 100:.2f}')\n",
    "print(f'Recall: {recall_best * 100:.2f}')"
   ],
   "id": "24a0c255ebcae543",
   "outputs": [
    {
     "name": "stdout",
     "output_type": "stream",
     "text": [
      "Fitting 5 folds for each of 24 candidates, totalling 120 fits\n",
      "Best parameters : {'C': 1, 'gamma': 'scale', 'kernel': 'rbf'}\n",
      "Accuracy: 92.31\n",
      "Precision: 92.22\n",
      "Recall: 96.19\n"
     ]
    }
   ],
   "execution_count": 110
  },
  {
   "metadata": {},
   "cell_type": "markdown",
   "source": [
    "Pre zvolený algoritmus, čo je SVM, sme použili GridSearchCV na optimalizáciu hyperparametrov. Najlepšia hodnota parametrov bola kombinácia c = 1, gamma = scale a kernel = rbf.\n",
    "Pri tejto kombinácii sme dosiahli presnosť 92.31%"
   ],
   "id": "af5552e0102ad66f"
  },
  {
   "metadata": {},
   "cell_type": "markdown",
   "source": [
    "### 3.3 B\n",
    "Vyskúšajte kombinácie modelov (ensemble) pre zvolený algoritmus tak, aby ste optimalizovali výkonnosť (bez underfitingu)."
   ],
   "id": "6518b186ce936b02"
  },
  {
   "metadata": {
    "ExecuteTime": {
     "end_time": "2024-11-24T20:04:13.699020Z",
     "start_time": "2024-11-24T20:04:11.991030Z"
    }
   },
   "cell_type": "code",
   "source": [
    "bagged_svm = BaggingClassifier(estimator=SVC(C=1, kernel='rbf', gamma='scale', random_state=42),\n",
    "                                 n_estimators=10,\n",
    "                                 random_state=42)\n",
    "bagged_svm.fit(trainX, trainY)\n",
    "\n",
    "predictions_bagged = bagged_svm.predict(testX)\n",
    "\n",
    "accuracy_bagged = accuracy_score(testY, predictions_bagged)\n",
    "precision_bagged = precision_score(testY, predictions_bagged)\n",
    "recall_bagged = recall_score(testY, predictions_bagged)\n",
    "\n",
    "print(f'Bagged SVM')\n",
    "print(f'Accuracy: {accuracy_bagged * 100:.2f}%')\n",
    "print(f'Precision: {precision_bagged * 100:.2f}%')\n",
    "print(f'Recall: {recall_bagged * 100:.2f}%')"
   ],
   "id": "1964dfae3572e29e",
   "outputs": [
    {
     "name": "stdout",
     "output_type": "stream",
     "text": [
      "Bagged SVM\n",
      "Accuracy: 92.31%\n",
      "Precision: 92.22%\n",
      "Recall: 96.19%\n"
     ]
    }
   ],
   "execution_count": 111
  },
  {
   "metadata": {
    "ExecuteTime": {
     "end_time": "2024-11-24T20:04:13.871326Z",
     "start_time": "2024-11-24T20:04:13.722737Z"
    }
   },
   "cell_type": "code",
   "source": [
    "boosting_model = GradientBoostingClassifier(n_estimators=10, random_state=42)\n",
    "boosting_model.fit(trainX, trainY)\n",
    "\n",
    "predictions_boosting = boosting_model.predict(testX)\n",
    "\n",
    "accuracy_boosting = accuracy_score(testY, predictions_boosting)\n",
    "precision_boosting = precision_score(testY, predictions_boosting)\n",
    "recall_boosting = recall_score(testY, predictions_boosting)\n",
    "\n",
    "print(f'Gradient Boosting')\n",
    "print(f'Accuracy: {accuracy_boosting * 100:.2f}%')\n",
    "print(f'Precision: {precision_boosting * 100:.2f}%')\n",
    "print(f'Recall: {recall_boosting * 100:.2f}%')\n"
   ],
   "id": "c58f84f9f74e5606",
   "outputs": [
    {
     "name": "stdout",
     "output_type": "stream",
     "text": [
      "Gradient Boosting\n",
      "Accuracy: 89.35%\n",
      "Precision: 88.53%\n",
      "Recall: 95.91%\n"
     ]
    }
   ],
   "execution_count": 112
  },
  {
   "metadata": {
    "ExecuteTime": {
     "end_time": "2024-11-24T20:04:13.895575Z",
     "start_time": "2024-11-24T20:04:13.894205Z"
    }
   },
   "cell_type": "code",
   "source": [],
   "id": "cb9bc8e119e4784",
   "outputs": [],
   "execution_count": null
  },
  {
   "metadata": {
    "ExecuteTime": {
     "end_time": "2024-11-24T20:04:14.326998Z",
     "start_time": "2024-11-24T20:04:13.919660Z"
    }
   },
   "cell_type": "code",
   "source": [
    "estimators = [\n",
    "    ('logistic', LogisticRegression(max_iter=5000)),\n",
    "    ('cart', DecisionTreeClassifier(random_state=42)),\n",
    "    ('svm', SVC(C=1, kernel='rbf', gamma='scale', random_state=42))\n",
    "]\n",
    "\n",
    "voting_model = VotingClassifier(estimators=estimators, voting='hard')\n",
    "voting_model.fit(trainX, trainY)\n",
    "\n",
    "predictions_voting = voting_model.predict(testX)\n",
    "\n",
    "accuracy_voting = accuracy_score(testY, predictions_voting)\n",
    "precision_voting = precision_score(testY, predictions_voting)\n",
    "recall_voting = recall_score(testY, predictions_voting)\n",
    "\n",
    "print(f'Voting Ensemble')\n",
    "print(f'Accuracy: {accuracy_voting * 100:.2f}%')\n",
    "print(f'Precision: {precision_voting * 100:.2f}%')\n",
    "print(f'Recall: {recall_voting * 100:.2f}%')\n"
   ],
   "id": "1b175a80355047d1",
   "outputs": [
    {
     "name": "stdout",
     "output_type": "stream",
     "text": [
      "Voting Ensemble\n",
      "Accuracy: 92.06%\n",
      "Precision: 91.92%\n",
      "Recall: 96.14%\n"
     ]
    }
   ],
   "execution_count": 113
  },
  {
   "metadata": {
    "ExecuteTime": {
     "end_time": "2024-11-24T20:04:14.355791Z",
     "start_time": "2024-11-24T20:04:14.351142Z"
    }
   },
   "cell_type": "code",
   "source": [
    "tuned_svm_metrics = {\n",
    "    'Accuracy': accuracy_best,\n",
    "    'Precision': precision_best,\n",
    "    'Recall': recall_best\n",
    "}\n",
    "\n",
    "bagged_svm_metrics = {\n",
    "    'Accuracy': accuracy_bagged,\n",
    "    'Precision': precision_bagged,\n",
    "    'Recall': recall_bagged\n",
    "}\n",
    "\n",
    "boosting_metrics = {\n",
    "    'Accuracy': accuracy_boosting,\n",
    "    'Precision': precision_boosting,\n",
    "    'Recall': recall_boosting\n",
    "}\n",
    "\n",
    "voting_metrics = {\n",
    "    'Accuracy': accuracy_voting,\n",
    "    'Precision': precision_voting,\n",
    "    'Recall': recall_voting\n",
    "}\n",
    "\n",
    "comparison_tuned_df = pd.DataFrame({\n",
    "        'Tuned SVM': tuned_svm_metrics,\n",
    "        'Bagged SVM': bagged_svm_metrics,\n",
    "        'Gradient Boosting': boosting_metrics,\n",
    "        'Voting Ensemble': voting_metrics\n",
    "    }\n",
    ")\n",
    "comparison_tuned_df"
   ],
   "id": "84090a03bce07826",
   "outputs": [
    {
     "data": {
      "text/plain": [
       "           Tuned SVM  Bagged SVM  Gradient Boosting  Voting Ensemble\n",
       "Accuracy    0.923105    0.923105           0.893502         0.920578\n",
       "Precision   0.922210    0.922210           0.885331         0.919208\n",
       "Recall      0.961947    0.961947           0.959149         0.961388"
      ],
      "text/html": [
       "<div>\n",
       "<style scoped>\n",
       "    .dataframe tbody tr th:only-of-type {\n",
       "        vertical-align: middle;\n",
       "    }\n",
       "\n",
       "    .dataframe tbody tr th {\n",
       "        vertical-align: top;\n",
       "    }\n",
       "\n",
       "    .dataframe thead th {\n",
       "        text-align: right;\n",
       "    }\n",
       "</style>\n",
       "<table border=\"1\" class=\"dataframe\">\n",
       "  <thead>\n",
       "    <tr style=\"text-align: right;\">\n",
       "      <th></th>\n",
       "      <th>Tuned SVM</th>\n",
       "      <th>Bagged SVM</th>\n",
       "      <th>Gradient Boosting</th>\n",
       "      <th>Voting Ensemble</th>\n",
       "    </tr>\n",
       "  </thead>\n",
       "  <tbody>\n",
       "    <tr>\n",
       "      <th>Accuracy</th>\n",
       "      <td>0.923105</td>\n",
       "      <td>0.923105</td>\n",
       "      <td>0.893502</td>\n",
       "      <td>0.920578</td>\n",
       "    </tr>\n",
       "    <tr>\n",
       "      <th>Precision</th>\n",
       "      <td>0.922210</td>\n",
       "      <td>0.922210</td>\n",
       "      <td>0.885331</td>\n",
       "      <td>0.919208</td>\n",
       "    </tr>\n",
       "    <tr>\n",
       "      <th>Recall</th>\n",
       "      <td>0.961947</td>\n",
       "      <td>0.961947</td>\n",
       "      <td>0.959149</td>\n",
       "      <td>0.961388</td>\n",
       "    </tr>\n",
       "  </tbody>\n",
       "</table>\n",
       "</div>"
      ]
     },
     "execution_count": 114,
     "metadata": {},
     "output_type": "execute_result"
    }
   ],
   "execution_count": 114
  },
  {
   "metadata": {},
   "cell_type": "markdown",
   "source": [
    "Pokúsili sme sa optimalizovť SVM model pomocou ensemble learningu.\n",
    "- BaggingClassifier dosiahol podobné výsledky ako pôvodný optimalizovaný SVM\n",
    "- GradientBoostingClassifier dosiahol horšie výsledky ako pôvodnýSVM, z čoho sme usúdili, že nie je vhodný pre náš dataset\n",
    "- VotingClasifier dal takisto výsledky porovnateľné s optimalizovaným SVM\n",
    "\n",
    "Po porovnaní výsledkov sme sa rozhodli použiť optimalizované SVM."
   ],
   "id": "1088f373ab6054a6"
  },
  {
   "metadata": {},
   "cell_type": "markdown",
   "source": [
    "### 3.3 C\n",
    "Využite krížovú validáciu (cross validation) na trénovacej množine."
   ],
   "id": "6e2eae9197bbb02e"
  },
  {
   "metadata": {
    "ExecuteTime": {
     "end_time": "2024-11-24T20:04:17.277875Z",
     "start_time": "2024-11-24T20:04:14.397298Z"
    }
   },
   "cell_type": "code",
   "source": [
    "cv_accuracy = cross_val_score(best_svm, trainX, trainY, cv=5, scoring='accuracy')\n",
    "cv_precision = cross_val_score(best_svm, trainX, trainY, cv=5, scoring='precision')\n",
    "cv_recall = cross_val_score(best_svm, trainX, trainY, cv=5, scoring='recall')\n",
    "\n",
    "print(f'Cross-Validation Accuracy: {cv_accuracy.mean() * 100:.2f}% s odchylkou {cv_accuracy.std() * 100:.2f}%')\n",
    "print(f'Cross-Validation Precision: {cv_precision.mean() * 100:.2f}% s odchylkou {cv_precision.std() * 100:.2f}%')\n",
    "print(f'Cross-Validation Recall: {cv_recall.mean() * 100:.2f}% s ochylkou {cv_recall.std() * 100:.2f}%')"
   ],
   "id": "7bb2b80f74032943",
   "outputs": [
    {
     "name": "stdout",
     "output_type": "stream",
     "text": [
      "Cross-Validation Accuracy: 92.53% s odchylkou 0.30%\n",
      "Cross-Validation Precision: 92.29% s odchylkou 0.64%\n",
      "Cross-Validation Recall: 96.57% s ochylkou 0.74%\n"
     ]
    }
   ],
   "execution_count": 115
  },
  {
   "metadata": {},
   "cell_type": "markdown",
   "source": [
    "Na overenie stability sme použili krížovú validáciu so 5 zložkami. Výsledky naznačuujú, že model je stabilný a bez overfitingu alebo underfitingu."
   ],
   "id": "efeb3dc0869e7462"
  },
  {
   "metadata": {},
   "cell_type": "markdown",
   "source": [
    "### 3.3 D\n",
    "Dokážte že Váš nastavený najlepší model je bez overfitingu."
   ],
   "id": "f45b2f4a0aab6ff3"
  },
  {
   "metadata": {},
   "cell_type": "markdown",
   "source": [
    "Optimalizované SVM bolo vyhodnotené na testovacích dátach aj pomocou krížovej validácie. Výsledky sú stabilné a konzistentné, čo naznačuje že model je bez overfittingu alebo underfitingu:\n",
    "\n",
    "- Accuracy: Test: 92.31%, Cross-Validation: 92.53% s ochylkou 0.30%\n",
    "- Precision: Test: 92.22%, Cross-Validation: 92.29% s ochylkou 0.64%\n",
    "- Recall: Test: 96.19%, Cross-Validation: 96.57% s ochylkou 0.74%\n",
    "\n",
    "Tieto výsledky ukazujú, že model generalizuje dobre na neznáme dáta a je bez overfittingu."
   ],
   "id": "142d63a5a86f4d7"
  },
  {
   "metadata": {},
   "cell_type": "markdown",
   "source": [
    "## 3.4 Vyhodnotenie vplyvu zvolenej stratégie riešenia na klasifikáciu"
   ],
   "id": "1af2371235ccd86f"
  },
  {
   "metadata": {},
   "cell_type": "markdown",
   "source": [
    "### 3.4 A\n",
    "Stratégie riešenia chýbajúcich hodnôt a outlierov"
   ],
   "id": "fd48b97e84bc9fd9"
  },
  {
   "metadata": {
    "ExecuteTime": {
     "end_time": "2024-11-24T20:04:18.464094Z",
     "start_time": "2024-11-24T20:04:17.410046Z"
    }
   },
   "cell_type": "code",
   "source": [
    "important_features = ['mwra', 'p.android.gm', 'c.android.chrome', 'p.android.documentsui', 'c.dogalize', 'c.android.gm', 'p.android.chrome', 'p.system', 'p.android.settings', 'p.android.externalstorage', 'c.android.youtube']\n",
    "\n",
    "data_train_raw = pd.read_csv('data_train.csv')[important_features]\n",
    "data_train_raw_x = data_train_raw.drop('mwra', axis=1)\n",
    "data_train_raw_y = data_train_raw['mwra']\n",
    "\n",
    "svm_outliers = SVC(C=1, kernel='rbf', gamma='scale', random_state=42)\n",
    "svm_outliers.fit(data_train_raw_x, data_train_raw_y)\n",
    "\n",
    "data_test_raw = pd.read_csv('data_test.csv')[important_features]\n",
    "data_test_raw_x = data_test_raw.drop('mwra', axis=1)\n",
    "data_test_raw_y = data_test_raw['mwra']\n",
    "\n",
    "predictions_raw_test = svm_outliers.predict(data_test_raw_x)\n",
    "\n",
    "accuracy_raw = accuracy_score(data_test_raw_y, predictions_raw_test)\n",
    "precision_raw = precision_score(data_test_raw_y, predictions_raw_test)\n",
    "recall_raw = recall_score(data_test_raw_y, predictions_raw_test)"
   ],
   "id": "c3a154df073b0c86",
   "outputs": [],
   "execution_count": 116
  },
  {
   "metadata": {
    "ExecuteTime": {
     "end_time": "2024-11-24T20:04:19.326136Z",
     "start_time": "2024-11-24T20:04:18.466662Z"
    }
   },
   "cell_type": "code",
   "source": [
    "def remove_outliers_iqr(df):\n",
    "    df_cleaned = df.copy()\n",
    "    for column in df_cleaned.columns:\n",
    "        if column != 'mwra':\n",
    "            Q1 = df_cleaned[column].quantile(0.25)\n",
    "            Q3 = df_cleaned[column].quantile(0.75)\n",
    "            IQR = Q3 - Q1\n",
    "            lower_bound = Q1 - 1.5 * IQR\n",
    "            upper_bound = Q3 + 1.5 * IQR\n",
    "            df_cleaned = df_cleaned[(df_cleaned[column] >= lower_bound) & (df_cleaned[column] <= upper_bound)]\n",
    "    return df_cleaned\n",
    "\n",
    "data_train_raw = remove_outliers_iqr(data_train_raw)\n",
    "data_train_raw_x = data_train_raw.drop('mwra', axis=1)\n",
    "data_train_raw_y = data_train_raw['mwra']\n",
    "\n",
    "data_test_raw = remove_outliers_iqr(data_test_raw)\n",
    "data_test_raw_x = data_test_raw.drop('mwra', axis=1)\n",
    "data_test_raw_y = data_test_raw['mwra']\n",
    "\n",
    "svm_no_outliers = SVC(C=1, kernel='rbf', gamma='scale', random_state=42)\n",
    "svm_no_outliers.fit(data_train_raw_x, data_train_raw_y)\n",
    "\n",
    "predictions_no_outliers_test = svm_no_outliers.predict(data_test_raw_x)\n",
    "\n",
    "accuracy_no_outliers = accuracy_score(data_test_raw_y, predictions_no_outliers_test)\n",
    "precision_no_outliers = precision_score(data_test_raw_y, predictions_no_outliers_test)\n",
    "recall_no_outliers = recall_score(data_test_raw_y, predictions_no_outliers_test)"
   ],
   "id": "7bc454233f0dbb72",
   "outputs": [],
   "execution_count": 117
  },
  {
   "metadata": {
    "ExecuteTime": {
     "end_time": "2024-11-24T20:04:19.355138Z",
     "start_time": "2024-11-24T20:04:19.350575Z"
    }
   },
   "cell_type": "code",
   "source": [
    "comparison_outliers = pd.DataFrame({\n",
    "    'With outliers': [accuracy_raw, precision_raw, recall_raw],\n",
    "    'Without outliers': [accuracy_no_outliers, precision_no_outliers, recall_no_outliers],\n",
    "    'SVM': [accuracy_best, precision_best, recall_best]\n",
    "}, index=['Accuracy', 'Precision', 'Recall'])\n",
    "comparison_outliers"
   ],
   "id": "83536fc3caa8469f",
   "outputs": [
    {
     "data": {
      "text/plain": [
       "           With outliers  Without outliers       SVM\n",
       "Accuracy        0.921733          0.922772  0.923105\n",
       "Precision       0.922400          0.922622  0.922210\n",
       "Recall          0.955520          0.960828  0.961947"
      ],
      "text/html": [
       "<div>\n",
       "<style scoped>\n",
       "    .dataframe tbody tr th:only-of-type {\n",
       "        vertical-align: middle;\n",
       "    }\n",
       "\n",
       "    .dataframe tbody tr th {\n",
       "        vertical-align: top;\n",
       "    }\n",
       "\n",
       "    .dataframe thead th {\n",
       "        text-align: right;\n",
       "    }\n",
       "</style>\n",
       "<table border=\"1\" class=\"dataframe\">\n",
       "  <thead>\n",
       "    <tr style=\"text-align: right;\">\n",
       "      <th></th>\n",
       "      <th>With outliers</th>\n",
       "      <th>Without outliers</th>\n",
       "      <th>SVM</th>\n",
       "    </tr>\n",
       "  </thead>\n",
       "  <tbody>\n",
       "    <tr>\n",
       "      <th>Accuracy</th>\n",
       "      <td>0.921733</td>\n",
       "      <td>0.922772</td>\n",
       "      <td>0.923105</td>\n",
       "    </tr>\n",
       "    <tr>\n",
       "      <th>Precision</th>\n",
       "      <td>0.922400</td>\n",
       "      <td>0.922622</td>\n",
       "      <td>0.922210</td>\n",
       "    </tr>\n",
       "    <tr>\n",
       "      <th>Recall</th>\n",
       "      <td>0.955520</td>\n",
       "      <td>0.960828</td>\n",
       "      <td>0.961947</td>\n",
       "    </tr>\n",
       "  </tbody>\n",
       "</table>\n",
       "</div>"
      ]
     },
     "execution_count": 118,
     "metadata": {},
     "output_type": "execute_result"
    }
   ],
   "execution_count": 118
  },
  {
   "metadata": {},
   "cell_type": "markdown",
   "source": [
    "Keďže atriúty ktoré sme použili nobsahovali chýbajúce hodnoty, neriešili sme žiadnu stratégiu pre chýbajúce hodnoty. Outliery sme riešili tak, že sme ich odstránili pomocou IQR metódy. Výsledky ukazujú, že model dosiahol lepšie výsledky s dátami, v ktorých sme odstránili outliery."
   ],
   "id": "ebfb9c835b5b8edb"
  },
  {
   "metadata": {},
   "cell_type": "markdown",
   "source": [
    "### 3.4 B\n",
    "Dátová transformácia (scaling, transformer,...)"
   ],
   "id": "673cfdc1d985afb6"
  },
  {
   "metadata": {
    "ExecuteTime": {
     "end_time": "2024-11-24T20:04:20.346053Z",
     "start_time": "2024-11-24T20:04:19.394496Z"
    }
   },
   "cell_type": "code",
   "source": [
    "pipeline = Pipeline([\n",
    "    ('scaler', RobustScaler()),\n",
    "    ('transformer', PowerTransformer(method='yeo-johnson')),\n",
    "    ('svm', SVC(C=1, kernel='rbf', gamma='scale', random_state=42))\n",
    "])\n",
    "\n",
    "pipeline.fit(data_train_raw_x, data_train_raw_y)\n",
    "predictions_scaled_transformed = pipeline.predict(data_test_raw_x)\n",
    "\n",
    "accuracy_transform = accuracy_score(data_test_raw_y, predictions_scaled_transformed)\n",
    "precision_transform = precision_score(data_test_raw_y, predictions_scaled_transformed)\n",
    "recall_transform = recall_score(data_test_raw_y, predictions_scaled_transformed)"
   ],
   "id": "c33e7c460619fbfc",
   "outputs": [],
   "execution_count": 119
  },
  {
   "metadata": {
    "ExecuteTime": {
     "end_time": "2024-11-24T20:04:20.371688Z",
     "start_time": "2024-11-24T20:04:20.366616Z"
    }
   },
   "cell_type": "code",
   "source": [
    "comparison_transformed = pd.DataFrame({\n",
    "    'Without transformation': [accuracy_no_outliers, precision_no_outliers, recall_no_outliers],\n",
    "    'With transformation': [accuracy_transform, precision_transform, recall_transform],\n",
    "    'SVM': [accuracy_best, precision_best, recall_best]\n",
    "}, index=['Accuracy', 'Precision', 'Recall'])\n",
    "comparison_transformed"
   ],
   "id": "dc54eb634d15e87f",
   "outputs": [
    {
     "data": {
      "text/plain": [
       "           Without transformation  With transformation       SVM\n",
       "Accuracy                 0.922772             0.922772  0.923105\n",
       "Precision                0.922622             0.922622  0.922210\n",
       "Recall                   0.960828             0.960828  0.961947"
      ],
      "text/html": [
       "<div>\n",
       "<style scoped>\n",
       "    .dataframe tbody tr th:only-of-type {\n",
       "        vertical-align: middle;\n",
       "    }\n",
       "\n",
       "    .dataframe tbody tr th {\n",
       "        vertical-align: top;\n",
       "    }\n",
       "\n",
       "    .dataframe thead th {\n",
       "        text-align: right;\n",
       "    }\n",
       "</style>\n",
       "<table border=\"1\" class=\"dataframe\">\n",
       "  <thead>\n",
       "    <tr style=\"text-align: right;\">\n",
       "      <th></th>\n",
       "      <th>Without transformation</th>\n",
       "      <th>With transformation</th>\n",
       "      <th>SVM</th>\n",
       "    </tr>\n",
       "  </thead>\n",
       "  <tbody>\n",
       "    <tr>\n",
       "      <th>Accuracy</th>\n",
       "      <td>0.922772</td>\n",
       "      <td>0.922772</td>\n",
       "      <td>0.923105</td>\n",
       "    </tr>\n",
       "    <tr>\n",
       "      <th>Precision</th>\n",
       "      <td>0.922622</td>\n",
       "      <td>0.922622</td>\n",
       "      <td>0.922210</td>\n",
       "    </tr>\n",
       "    <tr>\n",
       "      <th>Recall</th>\n",
       "      <td>0.960828</td>\n",
       "      <td>0.960828</td>\n",
       "      <td>0.961947</td>\n",
       "    </tr>\n",
       "  </tbody>\n",
       "</table>\n",
       "</div>"
      ]
     },
     "execution_count": 120,
     "metadata": {},
     "output_type": "execute_result"
    }
   ],
   "execution_count": 120
  },
  {
   "metadata": {},
   "cell_type": "markdown",
   "source": [
    "Použili sme RobustScaler a PowerTransformer na transformáciu dát. Výsledky ukazujú, transformácia dát nemala veľký vplyv na výsledky modelu. Výsledky sú porovnateľné s modelom bez transformácie."
   ],
   "id": "650ce61f68568f82"
  },
  {
   "metadata": {},
   "cell_type": "markdown",
   "source": [
    "### 3.4 C\n",
    "Výber atribútov, výber algoritmov, hyperparameter tuning, ensemble learning"
   ],
   "id": "9587cb12d07b1ffb"
  },
  {
   "metadata": {},
   "cell_type": "markdown",
   "source": [
    "Výber atribútov:\n",
    "pre výber dát sme použili 3 metódy:\n",
    "- Correlation analysis: meria vzťahy medzi numerickými premennými a cieľovou premennou. Vybrali sme atribúty s najvyššou koreláciou.\n",
    "- ANOVA F-test: meria rozdiely medzi numerickými atribútmi a cieľovou premennou. Vybrali sme atribúty s najvyššou F-hodnotou.\n",
    "- Random Foredst Feature Importance: vybrali sme atribúty s najvyššou dôležitosťou.\n",
    "Vzali sme 10 najlepších atribútov na základe kombinácie týchto metód.\n",
    "\n",
    "Výber algoritmov:\n",
    "vyskúšali sme 3 algoritmy:\n",
    "- ID3: 89.96% presnosť\n",
    "- Decision Tree: 89.31% presnosť\n",
    "- SVM: 91.08% presnosť\n",
    "\n",
    "každý algoritmus sme vyhodnotili pomocou metrík accuracy, precision a recall a porovnali výsledky. Najlepšie výsledky dosiahol SVM, preto sme sa rozhodli použiť tento algoritmus.\n",
    "\n",
    "Hyperparameter tuning:\n",
    "Po zvolení SVM ako najlepšieho algoritmu, sme optimalizovali parametre metódov GridSearchCV. Použili sme parametre C, kernel a gamma. Najlepšie parametre boli C = 1, kernel = rbf a gamma = scale.\n",
    "\n",
    "Presnosť modelu po optimalizácii bola 92.31%\n",
    "\n",
    "Ensemble learning:\n",
    "Vyskúšali sme 3 metódy ensemble learningu, a to Bagging, Gradient Boosting a Voting. Najlepšie výsledky dosahoval Bagging, ktorý dosahoval podobné výsledky ako optimalizovaný SVM. Ostatné metódy dosahovali horšie výsledky. Preto sme sa rozhodli ako najlešiu voľbu použiť optimalizovaný SVM."
   ],
   "id": "79edec55abc7ca52"
  },
  {
   "metadata": {},
   "cell_type": "markdown",
   "source": [
    "### 3.4 D\n",
    "Ktorý model je Váš najlepší model pre nasadenie (deployment)?"
   ],
   "id": "dce565146eb27fe0"
  },
  {
   "metadata": {
    "ExecuteTime": {
     "end_time": "2024-11-24T20:04:20.395764Z",
     "start_time": "2024-11-24T20:04:20.392418Z"
    }
   },
   "cell_type": "code",
   "source": [
    "pd.DataFrame({\n",
    "    'Tuned SVM': tuned_svm_metrics,\n",
    "})"
   ],
   "id": "8a4126d83f937f3f",
   "outputs": [
    {
     "data": {
      "text/plain": [
       "           Tuned SVM\n",
       "Accuracy    0.923105\n",
       "Precision   0.922210\n",
       "Recall      0.961947"
      ],
      "text/html": [
       "<div>\n",
       "<style scoped>\n",
       "    .dataframe tbody tr th:only-of-type {\n",
       "        vertical-align: middle;\n",
       "    }\n",
       "\n",
       "    .dataframe tbody tr th {\n",
       "        vertical-align: top;\n",
       "    }\n",
       "\n",
       "    .dataframe thead th {\n",
       "        text-align: right;\n",
       "    }\n",
       "</style>\n",
       "<table border=\"1\" class=\"dataframe\">\n",
       "  <thead>\n",
       "    <tr style=\"text-align: right;\">\n",
       "      <th></th>\n",
       "      <th>Tuned SVM</th>\n",
       "    </tr>\n",
       "  </thead>\n",
       "  <tbody>\n",
       "    <tr>\n",
       "      <th>Accuracy</th>\n",
       "      <td>0.923105</td>\n",
       "    </tr>\n",
       "    <tr>\n",
       "      <th>Precision</th>\n",
       "      <td>0.922210</td>\n",
       "    </tr>\n",
       "    <tr>\n",
       "      <th>Recall</th>\n",
       "      <td>0.961947</td>\n",
       "    </tr>\n",
       "  </tbody>\n",
       "</table>\n",
       "</div>"
      ]
     },
     "execution_count": 121,
     "metadata": {},
     "output_type": "execute_result"
    }
   ],
   "execution_count": 121
  },
  {
   "metadata": {},
   "cell_type": "markdown",
   "source": [
    "Porovnali sme viacero modelov podľa metrík accuracy, precision a recall. Najlepšie výsledky dosiahol optimalizovaný SVM s parametrami C = 1, kernel = rbf a gamma = scale. Tento model má najlepšie výsledky a je najlepším modelom pre nasadenie."
   ],
   "id": "4e3fe186ebaeff4e"
  },
  {
   "metadata": {},
   "cell_type": "markdown",
   "source": [
    "### 3.4 E\n",
    "Aký je data pipeline pre jeho vybudovanie na základe Vášho datasetu v produkcii?"
   ],
   "id": "eabb371b1cda4d98"
  },
  {
   "metadata": {
    "ExecuteTime": {
     "end_time": "2024-11-24T20:04:21.511816Z",
     "start_time": "2024-11-24T20:04:20.442237Z"
    }
   },
   "cell_type": "code",
   "source": [
    "pipeline = Pipeline([\n",
    "    ('scaler', RobustScaler()),\n",
    "    ('transformer', PowerTransformer(method='yeo-johnson')),\n",
    "    ('svm', SVC(C=1, kernel='rbf', gamma='scale', random_state=42))\n",
    "])\n",
    "\n",
    "data_train_raw = pd.read_csv('data_train.csv')\n",
    "important_features = ['mwra', 'p.android.gm', 'c.android.chrome', 'p.android.documentsui',\n",
    "                      'c.dogalize', 'c.android.gm', 'p.android.chrome', 'p.system',\n",
    "                      'p.android.settings', 'p.android.externalstorage', 'c.android.youtube']\n",
    "\n",
    "data_train_raw = remove_outliers_iqr(data_train_raw[important_features])\n",
    "trainX = data_train_raw.drop('mwra', axis=1)\n",
    "trainY = data_train_raw['mwra']\n",
    "\n",
    "pipeline.fit(trainX, trainY)\n",
    "\n",
    "data_test_raw = pd.read_csv('data_test.csv')\n",
    "data_test_raw = remove_outliers_iqr(data_test_raw[important_features])\n",
    "testX = data_test_raw.drop('mwra', axis=1)\n",
    "testY = data_test_raw['mwra']\n",
    "\n",
    "predictions = pipeline.predict(testX)\n",
    "\n",
    "accuracy = accuracy_score(testY, predictions)\n",
    "precision = precision_score(testY, predictions)\n",
    "recall = recall_score(testY, predictions)\n",
    "\n",
    "print(f'Accuracy: {accuracy * 100:.2f}%')\n",
    "print(f'Precision: {precision * 100:.2f}%')\n",
    "print(f'Recall: {recall * 100:.2f}%')\n"
   ],
   "id": "4ead8aa82d707a87",
   "outputs": [
    {
     "name": "stdout",
     "output_type": "stream",
     "text": [
      "Accuracy: 92.28%\n",
      "Precision: 92.26%\n",
      "Recall: 96.08%\n"
     ]
    }
   ],
   "execution_count": 122
  },
  {
   "metadata": {
    "ExecuteTime": {
     "end_time": "2024-11-24T20:11:12.625511Z",
     "start_time": "2024-11-24T20:11:07.748176Z"
    }
   },
   "cell_type": "code",
   "source": [
    "train_sizes, train_scores, test_scores = learning_curve(\n",
    "    pipeline, trainX, trainY, cv=5, scoring='accuracy', n_jobs=-1, train_sizes=np.linspace(0.1, 1.0, 10)\n",
    ")\n",
    "\n",
    "train_mean = np.mean(train_scores, axis=1)\n",
    "test_mean = np.mean(test_scores, axis=1)\n",
    "\n",
    "plt.figure(figsize=(10, 6))\n",
    "plt.plot(train_sizes, train_mean, label=\"Training Score\", marker='o')\n",
    "plt.plot(train_sizes, test_mean, label=\"Validation Score\", marker='o')\n",
    "\n",
    "plt.xlabel(\"Training Set Size\")\n",
    "plt.ylabel(\"Accuracy\")\n",
    "plt.legend()\n",
    "plt.grid()\n",
    "plt.show()"
   ],
   "id": "69c292a26d5cc60b",
   "outputs": [
    {
     "data": {
      "text/plain": [
       "<Figure size 1000x600 with 1 Axes>"
      ],
      "image/png": "[encoded data removed]"
     },
     "metadata": {},
     "output_type": "display_data"
    }
   ],
   "execution_count": 126
  },
  {
   "metadata": {},
   "cell_type": "code",
   "outputs": [],
   "execution_count": null,
   "source": [],
   "id": "3da2db2e9f87746"
  }
 ],
 "metadata": {
  "kernelspec": {
   "display_name": "Python 3",
   "language": "python",
   "name": "python3"
  },
  "language_info": {
   "codemirror_mode": {
    "name": "ipython",
    "version": 2
   },
   "file_extension": ".py",
   "mimetype": "text/x-python",
   "name": "python",
   "nbconvert_exporter": "python",
   "pygments_lexer": "ipython2",
   "version": "2.7.6"
  }
 },
 "nbformat": 4,
 "nbformat_minor": 5
}
