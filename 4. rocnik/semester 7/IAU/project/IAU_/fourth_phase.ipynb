{
 "cells": [
  {
   "cell_type": "markdown",
   "source": [
    "# The QUEST\n",
    "Práca bola rozdelená férovo pre oboch zúčastnených\n",
    "Adam Kubaliak 50%\n",
    "Norbert Matuška 50%"
   ],
   "metadata": {
    "collapsed": false
   },
   "id": "466b3ebfda48d7e3"
  },
  {
   "cell_type": "code",
   "outputs": [],
   "source": [
    "import os\n",
    "import pandas as pd\n",
    "import matplotlib.pyplot as plt\n",
    "import seaborn as sns\n",
    "from sklearn.model_selection import train_test_split\n",
    "from sklearn.metrics import confusion_matrix, classification_report\n",
    "import tensorflow as tf\n",
    "import shutil\n",
    "import numpy as np\n",
    "from tensorflow.keras.models import Sequential\n",
    "from tensorflow.keras.layers import Conv2D, MaxPooling2D, Flatten, Dense, Dropout"
   ],
   "metadata": {
    "collapsed": false,
    "ExecuteTime": {
     "end_time": "2024-12-06T15:55:22.307856Z",
     "start_time": "2024-12-06T15:55:22.302337Z"
    }
   },
   "id": "7802c2d7b9821e31",
   "execution_count": 27
  },
  {
   "cell_type": "code",
   "outputs": [],
   "source": [
    "# importing\n",
    "dataset_path = 'dataset-periocular/dataset/dataset'\n",
    "\n",
    "image_paths = []\n",
    "labels = []\n",
    "\n",
    "for image_name in os.listdir(dataset_path):\n",
    "    image_path = os.path.join(dataset_path, image_name)\n",
    "    if os.path.isfile(image_path):\n",
    "        image_paths.append(image_path)\n",
    "        if 'with-mask' in image_name:\n",
    "            labels.append('with-mask')\n",
    "        else:\n",
    "            labels.append('without-mask')\n",
    "\n",
    "df = pd.DataFrame({'image_path': image_paths, 'label': labels})\n",
    "\n",
    "bbox_df = pd.read_csv(\"dataset-periocular/Periocular  - bbox.csv\")\n",
    "landmarks_df = pd.read_csv(\"dataset-periocular/Periocular  - landmarks.csv\")"
   ],
   "metadata": {
    "collapsed": false,
    "ExecuteTime": {
     "end_time": "2024-12-06T15:27:19.170301Z",
     "start_time": "2024-12-06T15:27:18.818825Z"
    }
   },
   "id": "14afa12f3b936508",
   "execution_count": 6
  },
  {
   "cell_type": "code",
   "outputs": [
    {
     "name": "stdout",
     "output_type": "stream",
     "text": [
      "                                          image_path         label\n",
      "0  dataset-periocular/dataset/dataset\\img000001-w...     with-mask\n",
      "1   dataset-periocular/dataset/dataset\\img000001.jpg  without-mask\n",
      "2  dataset-periocular/dataset/dataset\\img000002-w...     with-mask\n",
      "3   dataset-periocular/dataset/dataset\\img000002.jpg  without-mask\n",
      "4   dataset-periocular/dataset/dataset\\img000003.jpg  without-mask\n",
      "     image_id  x_1  y_1  width  height\n",
      "0  000001.jpg   95   71    226     313\n",
      "1  000002.jpg   72   94    221     306\n",
      "2  000003.jpg  216   59     91     126\n",
      "3  000004.jpg  622  257    564     781\n",
      "4  000005.jpg  236  109    120     166\n",
      "     image_id  lefteye_x  lefteye_y  righteye_x  righteye_y  nose_x  nose_y  \\\n",
      "0  000001.jpg         69        109         106         113      77     142   \n",
      "1  000002.jpg         69        110         107         112      81     135   \n",
      "2  000003.jpg         76        112         104         106     108     128   \n",
      "3  000004.jpg         72        113         108         108     101     138   \n",
      "4  000005.jpg         66        114         112         112      86     119   \n",
      "\n",
      "   leftmouth_x  leftmouth_y  rightmouth_x  rightmouth_y  \n",
      "0           73          152           108           154  \n",
      "1           70          151           108           153  \n",
      "2           74          156            98           158  \n",
      "3           71          155           101           151  \n",
      "4           71          147           104           150  \n"
     ]
    }
   ],
   "source": [
    "print(df.head())\n",
    "print(bbox_df.head())\n",
    "print(landmarks_df.head())"
   ],
   "metadata": {
    "collapsed": false,
    "ExecuteTime": {
     "end_time": "2024-12-06T15:27:19.205410Z",
     "start_time": "2024-12-06T15:27:19.176356Z"
    }
   },
   "id": "5b7715892b1afe32",
   "execution_count": 7
  },
  {
   "cell_type": "markdown",
   "source": [
    "## 4.1 EDA and data preprocessing\n",
    "(A-4b)\tEDA a data preprocessing pre Vami vybrané charakteristiky z datasetu "
   ],
   "metadata": {
    "collapsed": false
   },
   "id": "4c262863441bc1e9"
  },
  {
   "cell_type": "code",
   "outputs": [
    {
     "data": {
      "text/plain": "<Figure size 800x600 with 1 Axes>",
      "image/png": "[encoded data removed]"
     },
     "metadata": {},
     "output_type": "display_data"
    }
   ],
   "source": [
    "plt.figure(figsize=(8, 6))\n",
    "sns.countplot(data=df, x='label')\n",
    "plt.title('Class Distribution')\n",
    "plt.xlabel('Class')\n",
    "plt.ylabel('Count')\n",
    "plt.show()"
   ],
   "metadata": {
    "collapsed": false,
    "ExecuteTime": {
     "end_time": "2024-12-06T15:27:19.543445Z",
     "start_time": "2024-12-06T15:27:19.212948Z"
    }
   },
   "id": "5f0798ab2d25de5a",
   "execution_count": 8
  },
  {
   "cell_type": "code",
   "outputs": [
    {
     "name": "stdout",
     "output_type": "stream",
     "text": [
      "Bounding Box Data - Missing Values:\n",
      "image_id    0\n",
      "x_1         0\n",
      "y_1         0\n",
      "width       0\n",
      "height      0\n",
      "dtype: int64\n",
      "\n",
      "Landmark Data - Missing Values:\n",
      "image_id        0\n",
      "lefteye_x       0\n",
      "lefteye_y       0\n",
      "righteye_x      0\n",
      "righteye_y      0\n",
      "nose_x          0\n",
      "nose_y          0\n",
      "leftmouth_x     0\n",
      "leftmouth_y     0\n",
      "rightmouth_x    0\n",
      "rightmouth_y    0\n",
      "dtype: int64\n",
      "\n",
      "Unmatched Bounding Box IDs: 0\n",
      "Unmatched Landmark IDs: 0\n"
     ]
    }
   ],
   "source": [
    "print(\"Bounding Box Data - Missing Values:\")\n",
    "print(bbox_df.isnull().sum())\n",
    "\n",
    "print(\"\\nLandmark Data - Missing Values:\")\n",
    "print(landmarks_df.isnull().sum())\n",
    "\n",
    "bbox_image_ids = set(bbox_df['image_id'])\n",
    "landmarks_image_ids = set(landmarks_df['image_id'])\n",
    "\n",
    "unmatched_bbox = bbox_image_ids - landmarks_image_ids\n",
    "unmatched_landmarks = landmarks_image_ids - bbox_image_ids\n",
    "\n",
    "print(f\"\\nUnmatched Bounding Box IDs: {len(unmatched_bbox)}\")\n",
    "print(f\"Unmatched Landmark IDs: {len(unmatched_landmarks)}\")"
   ],
   "metadata": {
    "collapsed": false,
    "ExecuteTime": {
     "end_time": "2024-12-06T15:27:19.558993Z",
     "start_time": "2024-12-06T15:27:19.546459Z"
    }
   },
   "id": "5a6abcefa8f12213",
   "execution_count": 9
  },
  {
   "cell_type": "markdown",
   "source": [
    "### 1. Splitneme dáta\n",
    "Pre tréning, testing a validáciu"
   ],
   "metadata": {
    "collapsed": false
   },
   "id": "4cd271b1e656a2e1"
  },
  {
   "cell_type": "code",
   "outputs": [
    {
     "name": "stdout",
     "output_type": "stream",
     "text": [
      "Train: 1257\n",
      "Validation: 315\n",
      "Test: 393\n"
     ]
    }
   ],
   "source": [
    "train_df, test_df = train_test_split(df, test_size=0.2, stratify=df['label'], random_state=42)\n",
    "train_df, val_df = train_test_split(train_df, test_size=0.2, stratify=train_df['label'], random_state=42)\n",
    "\n",
    "print(f\"Train: {len(train_df)}\")\n",
    "print(f\"Validation: {len(val_df)}\")\n",
    "print(f\"Test: {len(test_df)}\")"
   ],
   "metadata": {
    "collapsed": false,
    "ExecuteTime": {
     "end_time": "2024-12-06T15:27:19.587316Z",
     "start_time": "2024-12-06T15:27:19.562958Z"
    }
   },
   "id": "62d091e1fe363029",
   "execution_count": 10
  },
  {
   "cell_type": "markdown",
   "source": [
    "### 2. Zorganizujeme si to do priečinkov"
   ],
   "metadata": {
    "collapsed": false
   },
   "id": "2aead21fb204b6e7"
  },
  {
   "cell_type": "code",
   "outputs": [],
   "source": [
    "def organize_images(df, base_dir, dataset_type):\n",
    "\n",
    "    target_dir = os.path.join(base_dir, dataset_type)\n",
    "    \n",
    "    for _, row in df.iterrows():\n",
    "        label = row['label']\n",
    "        image_path = row['image_path']\n",
    "\n",
    "        label_dir = os.path.join(target_dir, label)\n",
    "        os.makedirs(label_dir, exist_ok=True)\n",
    "\n",
    "        shutil.copy(image_path, label_dir)\n",
    "\n",
    "base_dir = \"dataset\" \n",
    "os.makedirs(base_dir, exist_ok=True)\n",
    "\n",
    "organize_images(train_df, base_dir, \"train\")\n",
    "organize_images(val_df, base_dir, \"val\")\n",
    "organize_images(test_df, base_dir, \"test\")"
   ],
   "metadata": {
    "collapsed": false,
    "ExecuteTime": {
     "end_time": "2024-12-06T15:27:43.884451Z",
     "start_time": "2024-12-06T15:27:19.588662Z"
    }
   },
   "id": "97f91c5498b3161c",
   "execution_count": 11
  },
  {
   "cell_type": "markdown",
   "source": [
    "### 3. Loadneme dataset"
   ],
   "metadata": {
    "collapsed": false
   },
   "id": "8c4fea240c864b56"
  },
  {
   "cell_type": "code",
   "outputs": [
    {
     "name": "stdout",
     "output_type": "stream",
     "text": [
      "Found 1257 files belonging to 2 classes.\n",
      "Found 315 files belonging to 2 classes.\n",
      "Found 393 files belonging to 2 classes.\n"
     ]
    }
   ],
   "source": [
    "train_dir = os.path.join(base_dir, 'train')\n",
    "val_dir = os.path.join(base_dir, 'val')\n",
    "test_dir = os.path.join(base_dir, 'test')\n",
    "\n",
    "train_dataset = tf.keras.utils.image_dataset_from_directory(\n",
    "    train_dir,\n",
    "    image_size=(128, 128),  # Resize images\n",
    "    batch_size=32\n",
    ")\n",
    "\n",
    "val_dataset = tf.keras.utils.image_dataset_from_directory(\n",
    "    val_dir,\n",
    "    image_size=(128, 128),\n",
    "    batch_size=32\n",
    ")\n",
    "\n",
    "test_dataset = tf.keras.utils.image_dataset_from_directory(\n",
    "    test_dir,\n",
    "    image_size=(128, 128),\n",
    "    batch_size=32\n",
    ")\n",
    "\n",
    "class_names = train_dataset.class_names"
   ],
   "metadata": {
    "collapsed": false,
    "ExecuteTime": {
     "end_time": "2024-12-06T15:41:03.813440Z",
     "start_time": "2024-12-06T15:41:03.225589Z"
    }
   },
   "id": "6d52a8a78e5a5a65",
   "execution_count": 18
  },
  {
   "cell_type": "markdown",
   "source": [
    "### 4. Normalizujeme pixely"
   ],
   "metadata": {
    "collapsed": false
   },
   "id": "9db02581dfd70c81"
  },
  {
   "cell_type": "code",
   "outputs": [],
   "source": [
    "normalization_layer = tf.keras.layers.Rescaling(1./255)\n",
    "\n",
    "train_dataset = train_dataset.map(lambda x, y: (normalization_layer(x), y))\n",
    "val_dataset = val_dataset.map(lambda x, y: (normalization_layer(x), y))\n",
    "test_dataset = test_dataset.map(lambda x, y: (normalization_layer(x), y))"
   ],
   "metadata": {
    "collapsed": false,
    "ExecuteTime": {
     "end_time": "2024-12-06T15:41:05.582065Z",
     "start_time": "2024-12-06T15:41:05.522320Z"
    }
   },
   "id": "eaf5f10b063825a0",
   "execution_count": 19
  },
  {
   "cell_type": "markdown",
   "source": [
    "(B-1b)\tZdôvodnite výber ML/DL metód vzhľadom na Vami vybraný dataset pre 4.2"
   ],
   "metadata": {
    "collapsed": false
   },
   "id": "42f9e1af80365e09"
  },
  {
   "cell_type": "markdown",
   "source": [
    "## 4.2. Modeling and evaluation\n",
    "(A-4b)\tModeluje Vami tie vybrané charakteristiky pomocou vhodných ML/DL\tmetód. Výsledok modelovania je najlepší model.\n"
   ],
   "metadata": {
    "collapsed": false
   },
   "id": "6be8ad4ba9e577f8"
  },
  {
   "cell_type": "markdown",
   "source": [
    "CNN model"
   ],
   "metadata": {
    "collapsed": false
   },
   "id": "2e4890f9e65d2751"
  },
  {
   "cell_type": "code",
   "outputs": [
    {
     "name": "stderr",
     "output_type": "stream",
     "text": [
      "C:\\Users\\matus\\Desktop\\IAU\\project\\IAU_\\.venv\\Lib\\site-packages\\keras\\src\\layers\\convolutional\\base_conv.py:107: UserWarning: Do not pass an `input_shape`/`input_dim` argument to a layer. When using Sequential models, prefer using an `Input(shape)` object as the first layer in the model instead.\n",
      "  super().__init__(activity_regularizer=activity_regularizer, **kwargs)\n"
     ]
    },
    {
     "data": {
      "text/plain": "\u001B[1mModel: \"sequential\"\u001B[0m\n",
      "text/html": "<pre style=\"white-space:pre;overflow-x:auto;line-height:normal;font-family:Menlo,'DejaVu Sans Mono',consolas,'Courier New',monospace\"><span style=\"font-weight: bold\">Model: \"sequential\"</span>\n</pre>\n"
     },
     "metadata": {},
     "output_type": "display_data"
    },
    {
     "data": {
      "text/plain": "┏━━━━━━━━━━━━━━━━━━━━━━━━━━━━━━━━━┳━━━━━━━━━━━━━━━━━━━━━━━━┳━━━━━━━━━━━━━━━┓\n┃\u001B[1m \u001B[0m\u001B[1mLayer (type)                   \u001B[0m\u001B[1m \u001B[0m┃\u001B[1m \u001B[0m\u001B[1mOutput Shape          \u001B[0m\u001B[1m \u001B[0m┃\u001B[1m \u001B[0m\u001B[1m      Param #\u001B[0m\u001B[1m \u001B[0m┃\n┡━━━━━━━━━━━━━━━━━━━━━━━━━━━━━━━━━╇━━━━━━━━━━━━━━━━━━━━━━━━╇━━━━━━━━━━━━━━━┩\n│ conv2d_3 (\u001B[38;5;33mConv2D\u001B[0m)               │ (\u001B[38;5;45mNone\u001B[0m, \u001B[38;5;34m126\u001B[0m, \u001B[38;5;34m126\u001B[0m, \u001B[38;5;34m32\u001B[0m)   │           \u001B[38;5;34m896\u001B[0m │\n├─────────────────────────────────┼────────────────────────┼───────────────┤\n│ max_pooling2d_3 (\u001B[38;5;33mMaxPooling2D\u001B[0m)  │ (\u001B[38;5;45mNone\u001B[0m, \u001B[38;5;34m63\u001B[0m, \u001B[38;5;34m63\u001B[0m, \u001B[38;5;34m32\u001B[0m)     │             \u001B[38;5;34m0\u001B[0m │\n├─────────────────────────────────┼────────────────────────┼───────────────┤\n│ conv2d_4 (\u001B[38;5;33mConv2D\u001B[0m)               │ (\u001B[38;5;45mNone\u001B[0m, \u001B[38;5;34m61\u001B[0m, \u001B[38;5;34m61\u001B[0m, \u001B[38;5;34m64\u001B[0m)     │        \u001B[38;5;34m18,496\u001B[0m │\n├─────────────────────────────────┼────────────────────────┼───────────────┤\n│ max_pooling2d_4 (\u001B[38;5;33mMaxPooling2D\u001B[0m)  │ (\u001B[38;5;45mNone\u001B[0m, \u001B[38;5;34m30\u001B[0m, \u001B[38;5;34m30\u001B[0m, \u001B[38;5;34m64\u001B[0m)     │             \u001B[38;5;34m0\u001B[0m │\n├─────────────────────────────────┼────────────────────────┼───────────────┤\n│ conv2d_5 (\u001B[38;5;33mConv2D\u001B[0m)               │ (\u001B[38;5;45mNone\u001B[0m, \u001B[38;5;34m28\u001B[0m, \u001B[38;5;34m28\u001B[0m, \u001B[38;5;34m128\u001B[0m)    │        \u001B[38;5;34m73,856\u001B[0m │\n├─────────────────────────────────┼────────────────────────┼───────────────┤\n│ max_pooling2d_5 (\u001B[38;5;33mMaxPooling2D\u001B[0m)  │ (\u001B[38;5;45mNone\u001B[0m, \u001B[38;5;34m14\u001B[0m, \u001B[38;5;34m14\u001B[0m, \u001B[38;5;34m128\u001B[0m)    │             \u001B[38;5;34m0\u001B[0m │\n├─────────────────────────────────┼────────────────────────┼───────────────┤\n│ flatten_1 (\u001B[38;5;33mFlatten\u001B[0m)             │ (\u001B[38;5;45mNone\u001B[0m, \u001B[38;5;34m25088\u001B[0m)          │             \u001B[38;5;34m0\u001B[0m │\n├─────────────────────────────────┼────────────────────────┼───────────────┤\n│ dense_1 (\u001B[38;5;33mDense\u001B[0m)                 │ (\u001B[38;5;45mNone\u001B[0m, \u001B[38;5;34m128\u001B[0m)            │     \u001B[38;5;34m3,211,392\u001B[0m │\n├─────────────────────────────────┼────────────────────────┼───────────────┤\n│ dropout_1 (\u001B[38;5;33mDropout\u001B[0m)             │ (\u001B[38;5;45mNone\u001B[0m, \u001B[38;5;34m128\u001B[0m)            │             \u001B[38;5;34m0\u001B[0m │\n├─────────────────────────────────┼────────────────────────┼───────────────┤\n│ dense_2 (\u001B[38;5;33mDense\u001B[0m)                 │ (\u001B[38;5;45mNone\u001B[0m, \u001B[38;5;34m2\u001B[0m)              │           \u001B[38;5;34m258\u001B[0m │\n└─────────────────────────────────┴────────────────────────┴───────────────┘\n",
      "text/html": "<pre style=\"white-space:pre;overflow-x:auto;line-height:normal;font-family:Menlo,'DejaVu Sans Mono',consolas,'Courier New',monospace\">┏━━━━━━━━━━━━━━━━━━━━━━━━━━━━━━━━━┳━━━━━━━━━━━━━━━━━━━━━━━━┳━━━━━━━━━━━━━━━┓\n┃<span style=\"font-weight: bold\"> Layer (type)                    </span>┃<span style=\"font-weight: bold\"> Output Shape           </span>┃<span style=\"font-weight: bold\">       Param # </span>┃\n┡━━━━━━━━━━━━━━━━━━━━━━━━━━━━━━━━━╇━━━━━━━━━━━━━━━━━━━━━━━━╇━━━━━━━━━━━━━━━┩\n│ conv2d_3 (<span style=\"color: #0087ff; text-decoration-color: #0087ff\">Conv2D</span>)               │ (<span style=\"color: #00d7ff; text-decoration-color: #00d7ff\">None</span>, <span style=\"color: #00af00; text-decoration-color: #00af00\">126</span>, <span style=\"color: #00af00; text-decoration-color: #00af00\">126</span>, <span style=\"color: #00af00; text-decoration-color: #00af00\">32</span>)   │           <span style=\"color: #00af00; text-decoration-color: #00af00\">896</span> │\n├─────────────────────────────────┼────────────────────────┼───────────────┤\n│ max_pooling2d_3 (<span style=\"color: #0087ff; text-decoration-color: #0087ff\">MaxPooling2D</span>)  │ (<span style=\"color: #00d7ff; text-decoration-color: #00d7ff\">None</span>, <span style=\"color: #00af00; text-decoration-color: #00af00\">63</span>, <span style=\"color: #00af00; text-decoration-color: #00af00\">63</span>, <span style=\"color: #00af00; text-decoration-color: #00af00\">32</span>)     │             <span style=\"color: #00af00; text-decoration-color: #00af00\">0</span> │\n├─────────────────────────────────┼────────────────────────┼───────────────┤\n│ conv2d_4 (<span style=\"color: #0087ff; text-decoration-color: #0087ff\">Conv2D</span>)               │ (<span style=\"color: #00d7ff; text-decoration-color: #00d7ff\">None</span>, <span style=\"color: #00af00; text-decoration-color: #00af00\">61</span>, <span style=\"color: #00af00; text-decoration-color: #00af00\">61</span>, <span style=\"color: #00af00; text-decoration-color: #00af00\">64</span>)     │        <span style=\"color: #00af00; text-decoration-color: #00af00\">18,496</span> │\n├─────────────────────────────────┼────────────────────────┼───────────────┤\n│ max_pooling2d_4 (<span style=\"color: #0087ff; text-decoration-color: #0087ff\">MaxPooling2D</span>)  │ (<span style=\"color: #00d7ff; text-decoration-color: #00d7ff\">None</span>, <span style=\"color: #00af00; text-decoration-color: #00af00\">30</span>, <span style=\"color: #00af00; text-decoration-color: #00af00\">30</span>, <span style=\"color: #00af00; text-decoration-color: #00af00\">64</span>)     │             <span style=\"color: #00af00; text-decoration-color: #00af00\">0</span> │\n├─────────────────────────────────┼────────────────────────┼───────────────┤\n│ conv2d_5 (<span style=\"color: #0087ff; text-decoration-color: #0087ff\">Conv2D</span>)               │ (<span style=\"color: #00d7ff; text-decoration-color: #00d7ff\">None</span>, <span style=\"color: #00af00; text-decoration-color: #00af00\">28</span>, <span style=\"color: #00af00; text-decoration-color: #00af00\">28</span>, <span style=\"color: #00af00; text-decoration-color: #00af00\">128</span>)    │        <span style=\"color: #00af00; text-decoration-color: #00af00\">73,856</span> │\n├─────────────────────────────────┼────────────────────────┼───────────────┤\n│ max_pooling2d_5 (<span style=\"color: #0087ff; text-decoration-color: #0087ff\">MaxPooling2D</span>)  │ (<span style=\"color: #00d7ff; text-decoration-color: #00d7ff\">None</span>, <span style=\"color: #00af00; text-decoration-color: #00af00\">14</span>, <span style=\"color: #00af00; text-decoration-color: #00af00\">14</span>, <span style=\"color: #00af00; text-decoration-color: #00af00\">128</span>)    │             <span style=\"color: #00af00; text-decoration-color: #00af00\">0</span> │\n├─────────────────────────────────┼────────────────────────┼───────────────┤\n│ flatten_1 (<span style=\"color: #0087ff; text-decoration-color: #0087ff\">Flatten</span>)             │ (<span style=\"color: #00d7ff; text-decoration-color: #00d7ff\">None</span>, <span style=\"color: #00af00; text-decoration-color: #00af00\">25088</span>)          │             <span style=\"color: #00af00; text-decoration-color: #00af00\">0</span> │\n├─────────────────────────────────┼────────────────────────┼───────────────┤\n│ dense_1 (<span style=\"color: #0087ff; text-decoration-color: #0087ff\">Dense</span>)                 │ (<span style=\"color: #00d7ff; text-decoration-color: #00d7ff\">None</span>, <span style=\"color: #00af00; text-decoration-color: #00af00\">128</span>)            │     <span style=\"color: #00af00; text-decoration-color: #00af00\">3,211,392</span> │\n├─────────────────────────────────┼────────────────────────┼───────────────┤\n│ dropout_1 (<span style=\"color: #0087ff; text-decoration-color: #0087ff\">Dropout</span>)             │ (<span style=\"color: #00d7ff; text-decoration-color: #00d7ff\">None</span>, <span style=\"color: #00af00; text-decoration-color: #00af00\">128</span>)            │             <span style=\"color: #00af00; text-decoration-color: #00af00\">0</span> │\n├─────────────────────────────────┼────────────────────────┼───────────────┤\n│ dense_2 (<span style=\"color: #0087ff; text-decoration-color: #0087ff\">Dense</span>)                 │ (<span style=\"color: #00d7ff; text-decoration-color: #00d7ff\">None</span>, <span style=\"color: #00af00; text-decoration-color: #00af00\">2</span>)              │           <span style=\"color: #00af00; text-decoration-color: #00af00\">258</span> │\n└─────────────────────────────────┴────────────────────────┴───────────────┘\n</pre>\n"
     },
     "metadata": {},
     "output_type": "display_data"
    },
    {
     "data": {
      "text/plain": "\u001B[1m Total params: \u001B[0m\u001B[38;5;34m3,304,898\u001B[0m (12.61 MB)\n",
      "text/html": "<pre style=\"white-space:pre;overflow-x:auto;line-height:normal;font-family:Menlo,'DejaVu Sans Mono',consolas,'Courier New',monospace\"><span style=\"font-weight: bold\"> Total params: </span><span style=\"color: #00af00; text-decoration-color: #00af00\">3,304,898</span> (12.61 MB)\n</pre>\n"
     },
     "metadata": {},
     "output_type": "display_data"
    },
    {
     "data": {
      "text/plain": "\u001B[1m Trainable params: \u001B[0m\u001B[38;5;34m3,304,898\u001B[0m (12.61 MB)\n",
      "text/html": "<pre style=\"white-space:pre;overflow-x:auto;line-height:normal;font-family:Menlo,'DejaVu Sans Mono',consolas,'Courier New',monospace\"><span style=\"font-weight: bold\"> Trainable params: </span><span style=\"color: #00af00; text-decoration-color: #00af00\">3,304,898</span> (12.61 MB)\n</pre>\n"
     },
     "metadata": {},
     "output_type": "display_data"
    },
    {
     "data": {
      "text/plain": "\u001B[1m Non-trainable params: \u001B[0m\u001B[38;5;34m0\u001B[0m (0.00 B)\n",
      "text/html": "<pre style=\"white-space:pre;overflow-x:auto;line-height:normal;font-family:Menlo,'DejaVu Sans Mono',consolas,'Courier New',monospace\"><span style=\"font-weight: bold\"> Non-trainable params: </span><span style=\"color: #00af00; text-decoration-color: #00af00\">0</span> (0.00 B)\n</pre>\n"
     },
     "metadata": {},
     "output_type": "display_data"
    }
   ],
   "source": [
    "model = Sequential([\n",
    "    Conv2D(32, (3, 3), activation='relu', input_shape=(128, 128, 3)),\n",
    "    MaxPooling2D((2, 2)),\n",
    "    Conv2D(64, (3, 3), activation='relu'),\n",
    "    MaxPooling2D((2, 2)),\n",
    "    Conv2D(128, (3, 3), activation='relu'),\n",
    "    MaxPooling2D((2, 2)),\n",
    "    Flatten(),\n",
    "    Dense(128, activation='relu'),\n",
    "    Dropout(0.5),\n",
    "    Dense(len(class_names), activation='softmax')\n",
    "])\n",
    "\n",
    "model.compile(optimizer='adam', loss='sparse_categorical_crossentropy', metrics=['accuracy'])\n",
    "\n",
    "model.summary()"
   ],
   "metadata": {
    "collapsed": false,
    "ExecuteTime": {
     "end_time": "2024-12-06T15:41:20.558266Z",
     "start_time": "2024-12-06T15:41:20.322207Z"
    }
   },
   "id": "847dcc00a95d8199",
   "execution_count": 20
  },
  {
   "cell_type": "code",
   "outputs": [
    {
     "name": "stdout",
     "output_type": "stream",
     "text": [
      "Epoch 1/10\n",
      "\u001B[1m40/40\u001B[0m \u001B[32m━━━━━━━━━━━━━━━━━━━━\u001B[0m\u001B[37m\u001B[0m \u001B[1m21s\u001B[0m 455ms/step - accuracy: 0.7734 - loss: 0.4724 - val_accuracy: 0.9937 - val_loss: 0.0152\n",
      "Epoch 2/10\n",
      "\u001B[1m40/40\u001B[0m \u001B[32m━━━━━━━━━━━━━━━━━━━━\u001B[0m\u001B[37m\u001B[0m \u001B[1m16s\u001B[0m 403ms/step - accuracy: 0.9906 - loss: 0.0319 - val_accuracy: 1.0000 - val_loss: 0.0032\n",
      "Epoch 3/10\n",
      "\u001B[1m40/40\u001B[0m \u001B[32m━━━━━━━━━━━━━━━━━━━━\u001B[0m\u001B[37m\u001B[0m \u001B[1m16s\u001B[0m 394ms/step - accuracy: 1.0000 - loss: 0.0023 - val_accuracy: 1.0000 - val_loss: 7.1933e-04\n",
      "Epoch 4/10\n",
      "\u001B[1m40/40\u001B[0m \u001B[32m━━━━━━━━━━━━━━━━━━━━\u001B[0m\u001B[37m\u001B[0m \u001B[1m17s\u001B[0m 424ms/step - accuracy: 1.0000 - loss: 9.2929e-04 - val_accuracy: 1.0000 - val_loss: 5.1360e-04\n",
      "Epoch 5/10\n",
      "\u001B[1m40/40\u001B[0m \u001B[32m━━━━━━━━━━━━━━━━━━━━\u001B[0m\u001B[37m\u001B[0m \u001B[1m17s\u001B[0m 424ms/step - accuracy: 0.9965 - loss: 0.0083 - val_accuracy: 1.0000 - val_loss: 4.7015e-05\n",
      "Epoch 6/10\n",
      "\u001B[1m40/40\u001B[0m \u001B[32m━━━━━━━━━━━━━━━━━━━━\u001B[0m\u001B[37m\u001B[0m \u001B[1m17s\u001B[0m 417ms/step - accuracy: 0.9975 - loss: 0.0041 - val_accuracy: 0.9841 - val_loss: 0.0372\n",
      "Epoch 7/10\n",
      "\u001B[1m40/40\u001B[0m \u001B[32m━━━━━━━━━━━━━━━━━━━━\u001B[0m\u001B[37m\u001B[0m \u001B[1m16s\u001B[0m 405ms/step - accuracy: 0.9714 - loss: 0.1148 - val_accuracy: 1.0000 - val_loss: 0.0012\n",
      "Epoch 8/10\n",
      "\u001B[1m40/40\u001B[0m \u001B[32m━━━━━━━━━━━━━━━━━━━━\u001B[0m\u001B[37m\u001B[0m \u001B[1m16s\u001B[0m 400ms/step - accuracy: 0.9918 - loss: 0.0382 - val_accuracy: 1.0000 - val_loss: 9.3972e-05\n",
      "Epoch 9/10\n",
      "\u001B[1m40/40\u001B[0m \u001B[32m━━━━━━━━━━━━━━━━━━━━\u001B[0m\u001B[37m\u001B[0m \u001B[1m16s\u001B[0m 397ms/step - accuracy: 1.0000 - loss: 0.0011 - val_accuracy: 1.0000 - val_loss: 3.3671e-04\n",
      "Epoch 10/10\n",
      "\u001B[1m40/40\u001B[0m \u001B[32m━━━━━━━━━━━━━━━━━━━━\u001B[0m\u001B[37m\u001B[0m \u001B[1m18s\u001B[0m 430ms/step - accuracy: 0.9975 - loss: 0.0034 - val_accuracy: 1.0000 - val_loss: 2.9311e-04\n"
     ]
    }
   ],
   "source": [
    "history = model.fit(train_dataset, validation_data=val_dataset, epochs=10, verbose=1)"
   ],
   "metadata": {
    "collapsed": false,
    "ExecuteTime": {
     "end_time": "2024-12-06T15:45:33.786336Z",
     "start_time": "2024-12-06T15:42:42.822654Z"
    }
   },
   "id": "c4896963af2810d8",
   "execution_count": 21
  },
  {
   "cell_type": "code",
   "outputs": [
    {
     "name": "stdout",
     "output_type": "stream",
     "text": [
      "\u001B[1m13/13\u001B[0m \u001B[32m━━━━━━━━━━━━━━━━━━━━\u001B[0m\u001B[37m\u001B[0m \u001B[1m1s\u001B[0m 105ms/step - accuracy: 1.0000 - loss: 4.0022e-04\n",
      "Test Accuracy: 100.00%\n",
      "0.0008056748192757368\n"
     ]
    }
   ],
   "source": [
    "test_loss, test_accuracy = model.evaluate(test_dataset)\n",
    "print(f\"Test Accuracy: {test_accuracy * 100:.2f}%\")\n",
    "print(test_loss)"
   ],
   "metadata": {
    "collapsed": false,
    "ExecuteTime": {
     "end_time": "2024-12-06T15:53:56.553460Z",
     "start_time": "2024-12-06T15:53:55.054977Z"
    }
   },
   "id": "ca7cb1f6ba014293",
   "execution_count": 25
  },
  {
   "cell_type": "code",
   "outputs": [
    {
     "name": "stdout",
     "output_type": "stream",
     "text": [
      "\u001B[1m13/13\u001B[0m \u001B[32m━━━━━━━━━━━━━━━━━━━━\u001B[0m\u001B[37m\u001B[0m \u001B[1m2s\u001B[0m 120ms/step\n",
      "Number of misclassified samples: 188\n"
     ]
    }
   ],
   "source": [
    "predictions = model.predict(test_dataset)\n",
    "predicted_classes = np.argmax(predictions, axis=1)\n",
    "true_classes = np.concatenate([y.numpy() for x, y in test_dataset])\n",
    "\n",
    "misclassified = np.where(predicted_classes != true_classes)[0]\n",
    "\n",
    "print(f\"Number of misclassified samples: {len(misclassified)}\")"
   ],
   "metadata": {
    "collapsed": false,
    "ExecuteTime": {
     "end_time": "2024-12-06T15:53:25.264443Z",
     "start_time": "2024-12-06T15:53:22.756450Z"
    }
   },
   "id": "9f4a16db57f47818",
   "execution_count": 24
  },
  {
   "cell_type": "code",
   "outputs": [
    {
     "data": {
      "text/plain": "<Figure size 640x480 with 2 Axes>",
      "image/png": "[encoded data removed]"
     },
     "metadata": {},
     "output_type": "display_data"
    },
    {
     "name": "stdout",
     "output_type": "stream",
     "text": [
      "              precision    recall  f1-score   support\n",
      "\n",
      "   with-mask       0.51      0.51      0.51       193\n",
      "without-mask       0.53      0.53      0.53       200\n",
      "\n",
      "    accuracy                           0.52       393\n",
      "   macro avg       0.52      0.52      0.52       393\n",
      "weighted avg       0.52      0.52      0.52       393\n"
     ]
    }
   ],
   "source": [
    "conf_matrix = confusion_matrix(true_classes, predicted_classes)\n",
    "sns.heatmap(conf_matrix, annot=True, fmt='d', xticklabels=class_names, yticklabels=class_names)\n",
    "plt.xlabel('Predicted')\n",
    "plt.ylabel('True')\n",
    "plt.title('Confusion Matrix')\n",
    "plt.show()\n",
    "\n",
    "print(classification_report(true_classes, predicted_classes, target_names=class_names))"
   ],
   "metadata": {
    "collapsed": false,
    "ExecuteTime": {
     "end_time": "2024-12-06T15:55:27.405062Z",
     "start_time": "2024-12-06T15:55:27.150159Z"
    }
   },
   "id": "70455a58fa00b90a",
   "execution_count": 28
  },
  {
   "cell_type": "code",
   "outputs": [],
   "source": [],
   "metadata": {
    "collapsed": false
   },
   "id": "db709f75bc15fa29"
  }
 ],
 "metadata": {
  "kernelspec": {
   "display_name": "Python 3",
   "language": "python",
   "name": "python3"
  },
  "language_info": {
   "codemirror_mode": {
    "name": "ipython",
    "version": 2
   },
   "file_extension": ".py",
   "mimetype": "text/x-python",
   "name": "python",
   "nbconvert_exporter": "python",
   "pygments_lexer": "ipython2",
   "version": "2.7.6"
  }
 },
 "nbformat": 4,
 "nbformat_minor": 5
}
