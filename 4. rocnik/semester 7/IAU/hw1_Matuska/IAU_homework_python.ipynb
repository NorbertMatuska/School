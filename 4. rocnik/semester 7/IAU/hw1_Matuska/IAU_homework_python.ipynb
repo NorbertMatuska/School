{
 "cells": [
  {
   "cell_type": "markdown",
   "metadata": {
    "colab_type": "text",
    "id": "PE4ExuwJjYZl"
   },
   "source": [
    "# Introduction to Python: DÚ"
   ]
  },
  {
   "cell_type": "code",
   "execution_count": null,
   "metadata": {
    "colab": {},
    "colab_type": "code",
    "id": "m7dnZNjx26I_"
   },
   "outputs": [],
   "source": [
    "# -*- coding: utf-8 -*-\n",
    "#\n",
    "# Licensed under the Apache License, Version 2.0 (the \"License\");\n",
    "# you may not use this file except in compliance with the License.\n",
    "# You may obtain a copy of the License at\n",
    "#\n",
    "# http://www.apache.org/licenses/LICENSE-2.0\n",
    "#\n",
    "# Unless required by applicable law or agreed to in writing, software\n",
    "# distributed under the License is distributed on an \"AS IS\" BASIS,\n",
    "# WITHOUT WARRANTIES OR CONDITIONS OF ANY KIND, either express or\n",
    "# implied.\n",
    "# See the License for the specific language governing permissions and\n",
    "# limitations under the License.\n",
    "#"
   ]
  },
  {
   "cell_type": "markdown",
   "metadata": {
    "colab_type": "text",
    "id": "wtQeTdrV4kO_"
   },
   "source": [
    "Official python tutorial: [https://docs.python.org/3.8/tutorial/index.html](https://docs.python.org/3.8/tutorial/index.html) \n",
    "\n",
    "URL [https://github.com/jerry-git/learn-python3](https://github.com/jerry-git/learn-python3)"
   ]
  },
  {
   "cell_type": "markdown",
   "metadata": {
    "colab_type": "text",
    "id": "NNi-uBwHfdk0"
   },
   "source": [
    "## Task 1"
   ]
  },
  {
   "cell_type": "markdown",
   "metadata": {
    "colab_type": "text",
    "id": "X3eHvejdfgWj"
   },
   "source": [
    "You are given an array of strings:"
   ]
  },
  {
   "cell_type": "code",
   "execution_count": 2,
   "metadata": {
    "colab": {},
    "colab_type": "code",
    "id": "1qj5175CfnTd",
    "ExecuteTime": {
     "end_time": "2024-09-25T12:00:44.798838Z",
     "start_time": "2024-09-25T12:00:44.793642Z"
    }
   },
   "outputs": [],
   "source": [
    "array_to_split = [\"Fiit\", \"fiit\", \"megadlhystring!!!\", \"autobiografia\", \"Alica\", \"python\", \"pip\", \"env\", \"jupyter\", \"IAU\"]"
   ]
  },
  {
   "cell_type": "markdown",
   "metadata": {
    "colab_type": "text",
    "id": "RaGmXpqghnQW"
   },
   "source": [
    "Write a function that, for the given array of strings, returns a new array containing only strings at prime indices. Then call this function with the field declared above as a parameter."
   ]
  },
  {
   "cell_type": "code",
   "execution_count": 3,
   "metadata": {
    "colab": {},
    "colab_type": "code",
    "id": "W8ed3W40h529",
    "ExecuteTime": {
     "end_time": "2024-09-25T12:16:01.771783Z",
     "start_time": "2024-09-25T12:16:01.764201Z"
    }
   },
   "outputs": [
    {
     "name": "stdout",
     "output_type": "stream",
     "text": [
      "['megadlhystring!!!', 'autobiografia', 'python', 'env']\n"
     ]
    }
   ],
   "source": [
    "def is_prime(n):\n",
    "    if n <= 1:\n",
    "        return False\n",
    "    for i in range(2, int(n**0.5) + 1):\n",
    "        if n % i == 0:\n",
    "            return False\n",
    "    return True\n",
    "\n",
    "def prime_indices(array):\n",
    "    result = []\n",
    "    for i in range(len(array)):\n",
    "        if is_prime(i):\n",
    "            result.append(array[i])\n",
    "    return result\n",
    "\n",
    "print(prime_indices(array_to_split))"
   ]
  },
  {
   "cell_type": "markdown",
   "metadata": {
    "colab_type": "text",
    "id": "OsdZWqFsfvgk"
   },
   "source": [
    "Write a program that divides the above declared array into 3 new arrays, where in one array there will be strings of length less than 5. In the second array, strings of length between 5 and 10 (inclusive) and strings starting with the letter \"a\" or any uppercase letter while string of **any** length. In the third field, all other things."
   ]
  },
  {
   "cell_type": "code",
   "execution_count": 4,
   "metadata": {
    "colab": {},
    "colab_type": "code",
    "id": "19OHF7shiDI9",
    "ExecuteTime": {
     "end_time": "2024-09-25T12:23:20.815637Z",
     "start_time": "2024-09-25T12:23:20.799368Z"
    }
   },
   "outputs": [
    {
     "data": {
      "text/plain": "(['Fiit', 'fiit', 'pip', 'env', 'IAU'],\n ['autobiografia', 'Alica', 'python', 'jupyter'],\n ['megadlhystring!!!'])"
     },
     "execution_count": 4,
     "metadata": {},
     "output_type": "execute_result"
    }
   ],
   "source": [
    "less5 = []\n",
    "fivetoten = []\n",
    "other = []\n",
    "for string in array_to_split:\n",
    "    if len(string) < 5:\n",
    "        less5.append(string)\n",
    "    elif (5 <= len(string) <= 10) or (string[0] == \"a\" or string[0].isupper()):\n",
    "        fivetoten.append(string)\n",
    "    else:\n",
    "        other.append(string)\n",
    "\n",
    "less5, fivetoten, other"
   ]
  },
  {
   "cell_type": "markdown",
   "metadata": {
    "colab_type": "text",
    "id": "-sZ6ISJMp1bR"
   },
   "source": [
    "## Task 2"
   ]
  },
  {
   "cell_type": "markdown",
   "metadata": {
    "colab_type": "text",
    "id": "MzlqAVbwp4qL"
   },
   "source": [
    "We have entered an array of numbers of type Interger (int)."
   ]
  },
  {
   "cell_type": "code",
   "execution_count": 7,
   "metadata": {
    "colab": {},
    "colab_type": "code",
    "id": "9dEavPgJp7b1",
    "ExecuteTime": {
     "end_time": "2024-09-25T12:49:13.086684Z",
     "start_time": "2024-09-25T12:49:13.080099Z"
    }
   },
   "outputs": [],
   "source": [
    "array1 = [1, 4, 5, 1, 7, 5, 1, 5, 4, 2, 3, 4]\n",
    "array2 = [1,2,3,4,5,5,6,6,4,4,5,5,12,12,1,1,1,1,1,2,1]\n",
    "array3 = [1,1,2,20]"
   ]
  },
  {
   "cell_type": "markdown",
   "metadata": {
    "colab_type": "text",
    "id": "Ie99LXSfqacF"
   },
   "source": [
    "Write a function that tells us, for an array of ints, whether the array can be split into two arrays with the same sum. Then call this function on the field declared above. List two such fields (any that satisfy the condition of equal sum)."
   ]
  },
  {
   "cell_type": "code",
   "execution_count": 8,
   "metadata": {
    "ExecuteTime": {
     "end_time": "2024-09-25T12:49:14.967315Z",
     "start_time": "2024-09-25T12:49:14.955491Z"
    }
   },
   "outputs": [
    {
     "name": "stdout",
     "output_type": "stream",
     "text": [
      "True\n",
      "True\n",
      "False\n"
     ]
    }
   ],
   "source": [
    "def can_find_subset(arr, index, current_sum, target):\n",
    "    if current_sum == target:\n",
    "        return True\n",
    "    if current_sum > target or index >= len(arr):\n",
    "        return False\n",
    "    \n",
    "    return (can_find_subset(arr, index + 1, current_sum + arr[index], target) or \n",
    "            can_find_subset(arr, index + 1, current_sum, target))\n",
    "\n",
    "def can_divide(arr):\n",
    "    total_sum = sum(arr)\n",
    "    \n",
    "    if total_sum % 2 != 0:\n",
    "        return False\n",
    "    \n",
    "    target = total_sum // 2\n",
    "    \n",
    "    return can_find_subset(arr, 0, 0, target)\n",
    "\n",
    "print(can_divide(array1))\n",
    "print(can_divide(array2))\n",
    "print(can_divide(array3))"
   ]
  },
  {
   "cell_type": "code",
   "outputs": [],
   "source": [],
   "metadata": {
    "collapsed": false
   }
  }
 ],
 "metadata": {
  "colab": {
   "collapsed_sections": [],
   "name": "IAU_uvod_do_pythonu.ipynb",
   "provenance": []
  },
  "kernelspec": {
   "display_name": "Python 3",
   "language": "python",
   "name": "python3"
  },
  "language_info": {
   "codemirror_mode": {
    "name": "ipython",
    "version": 3
   },
   "file_extension": ".py",
   "mimetype": "text/x-python",
   "name": "python",
   "nbconvert_exporter": "python",
   "pygments_lexer": "ipython3",
   "version": "3.8.2"
  }
 },
 "nbformat": 4,
 "nbformat_minor": 1
}
